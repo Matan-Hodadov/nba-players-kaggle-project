{
 "cells": [
  {
   "cell_type": "markdown",
   "metadata": {},
   "source": [
    "# nba players dataset work"
   ]
  },
  {
   "cell_type": "markdown",
   "metadata": {},
   "source": [
    "[link to my github's reposetory](https://github.com/Matan-Hodadov/nba-players-kaggle-project)"
   ]
  },
  {
   "cell_type": "markdown",
   "metadata": {},
   "source": [
    "# take a first look and try to understand the data"
   ]
  },
  {
   "cell_type": "code",
   "execution_count": 1,
   "metadata": {},
   "outputs": [],
   "source": [
    "#import what we need to start working on the data\n",
    "import pandas as pd\n",
    "import numpy as np\n",
    "import matplotlib.pyplot as plt\n",
    "%matplotlib inline"
   ]
  },
  {
   "cell_type": "code",
   "execution_count": 2,
   "metadata": {},
   "outputs": [
    {
     "data": {
      "text/html": [
       "<div>\n",
       "<style scoped>\n",
       "    .dataframe tbody tr th:only-of-type {\n",
       "        vertical-align: middle;\n",
       "    }\n",
       "\n",
       "    .dataframe tbody tr th {\n",
       "        vertical-align: top;\n",
       "    }\n",
       "\n",
       "    .dataframe thead th {\n",
       "        text-align: right;\n",
       "    }\n",
       "</style>\n",
       "<table border=\"1\" class=\"dataframe\">\n",
       "  <thead>\n",
       "    <tr style=\"text-align: right;\">\n",
       "      <th></th>\n",
       "      <th>Unnamed: 0</th>\n",
       "      <th>player_name</th>\n",
       "      <th>team_abbreviation</th>\n",
       "      <th>age</th>\n",
       "      <th>player_height</th>\n",
       "      <th>player_weight</th>\n",
       "      <th>college</th>\n",
       "      <th>country</th>\n",
       "      <th>draft_year</th>\n",
       "      <th>draft_round</th>\n",
       "      <th>...</th>\n",
       "      <th>pts</th>\n",
       "      <th>reb</th>\n",
       "      <th>ast</th>\n",
       "      <th>net_rating</th>\n",
       "      <th>oreb_pct</th>\n",
       "      <th>dreb_pct</th>\n",
       "      <th>usg_pct</th>\n",
       "      <th>ts_pct</th>\n",
       "      <th>ast_pct</th>\n",
       "      <th>season</th>\n",
       "    </tr>\n",
       "  </thead>\n",
       "  <tbody>\n",
       "    <tr>\n",
       "      <td>0</td>\n",
       "      <td>0</td>\n",
       "      <td>Chris Robinson</td>\n",
       "      <td>VAN</td>\n",
       "      <td>23.0</td>\n",
       "      <td>195.58</td>\n",
       "      <td>90.71840</td>\n",
       "      <td>Western Kentucky</td>\n",
       "      <td>USA</td>\n",
       "      <td>1996</td>\n",
       "      <td>2</td>\n",
       "      <td>...</td>\n",
       "      <td>4.6</td>\n",
       "      <td>1.7</td>\n",
       "      <td>1.6</td>\n",
       "      <td>-11.4</td>\n",
       "      <td>0.039</td>\n",
       "      <td>0.088</td>\n",
       "      <td>0.155</td>\n",
       "      <td>0.486</td>\n",
       "      <td>0.156</td>\n",
       "      <td>1996-97</td>\n",
       "    </tr>\n",
       "    <tr>\n",
       "      <td>1</td>\n",
       "      <td>1</td>\n",
       "      <td>Matt Fish</td>\n",
       "      <td>MIA</td>\n",
       "      <td>27.0</td>\n",
       "      <td>210.82</td>\n",
       "      <td>106.59412</td>\n",
       "      <td>North Carolina-Wilmington</td>\n",
       "      <td>USA</td>\n",
       "      <td>1992</td>\n",
       "      <td>2</td>\n",
       "      <td>...</td>\n",
       "      <td>0.3</td>\n",
       "      <td>0.8</td>\n",
       "      <td>0.0</td>\n",
       "      <td>-15.1</td>\n",
       "      <td>0.143</td>\n",
       "      <td>0.267</td>\n",
       "      <td>0.265</td>\n",
       "      <td>0.333</td>\n",
       "      <td>0.000</td>\n",
       "      <td>1996-97</td>\n",
       "    </tr>\n",
       "    <tr>\n",
       "      <td>2</td>\n",
       "      <td>2</td>\n",
       "      <td>Matt Bullard</td>\n",
       "      <td>HOU</td>\n",
       "      <td>30.0</td>\n",
       "      <td>208.28</td>\n",
       "      <td>106.59412</td>\n",
       "      <td>Iowa</td>\n",
       "      <td>USA</td>\n",
       "      <td>Undrafted</td>\n",
       "      <td>Undrafted</td>\n",
       "      <td>...</td>\n",
       "      <td>4.5</td>\n",
       "      <td>1.6</td>\n",
       "      <td>0.9</td>\n",
       "      <td>0.9</td>\n",
       "      <td>0.016</td>\n",
       "      <td>0.115</td>\n",
       "      <td>0.151</td>\n",
       "      <td>0.535</td>\n",
       "      <td>0.099</td>\n",
       "      <td>1996-97</td>\n",
       "    </tr>\n",
       "    <tr>\n",
       "      <td>3</td>\n",
       "      <td>3</td>\n",
       "      <td>Marty Conlon</td>\n",
       "      <td>BOS</td>\n",
       "      <td>29.0</td>\n",
       "      <td>210.82</td>\n",
       "      <td>111.13004</td>\n",
       "      <td>Providence</td>\n",
       "      <td>USA</td>\n",
       "      <td>Undrafted</td>\n",
       "      <td>Undrafted</td>\n",
       "      <td>...</td>\n",
       "      <td>7.8</td>\n",
       "      <td>4.4</td>\n",
       "      <td>1.4</td>\n",
       "      <td>-9.0</td>\n",
       "      <td>0.083</td>\n",
       "      <td>0.152</td>\n",
       "      <td>0.167</td>\n",
       "      <td>0.542</td>\n",
       "      <td>0.101</td>\n",
       "      <td>1996-97</td>\n",
       "    </tr>\n",
       "    <tr>\n",
       "      <td>4</td>\n",
       "      <td>4</td>\n",
       "      <td>Martin Muursepp</td>\n",
       "      <td>DAL</td>\n",
       "      <td>22.0</td>\n",
       "      <td>205.74</td>\n",
       "      <td>106.59412</td>\n",
       "      <td>None</td>\n",
       "      <td>USA</td>\n",
       "      <td>1996</td>\n",
       "      <td>1</td>\n",
       "      <td>...</td>\n",
       "      <td>3.7</td>\n",
       "      <td>1.6</td>\n",
       "      <td>0.5</td>\n",
       "      <td>-14.5</td>\n",
       "      <td>0.109</td>\n",
       "      <td>0.118</td>\n",
       "      <td>0.233</td>\n",
       "      <td>0.482</td>\n",
       "      <td>0.114</td>\n",
       "      <td>1996-97</td>\n",
       "    </tr>\n",
       "  </tbody>\n",
       "</table>\n",
       "<p>5 rows × 22 columns</p>\n",
       "</div>"
      ],
      "text/plain": [
       "   Unnamed: 0      player_name team_abbreviation   age  player_height  \\\n",
       "0           0   Chris Robinson               VAN  23.0         195.58   \n",
       "1           1        Matt Fish               MIA  27.0         210.82   \n",
       "2           2     Matt Bullard               HOU  30.0         208.28   \n",
       "3           3     Marty Conlon               BOS  29.0         210.82   \n",
       "4           4  Martin Muursepp               DAL  22.0         205.74   \n",
       "\n",
       "   player_weight                    college country draft_year draft_round  \\\n",
       "0       90.71840           Western Kentucky     USA       1996           2   \n",
       "1      106.59412  North Carolina-Wilmington     USA       1992           2   \n",
       "2      106.59412                       Iowa     USA  Undrafted   Undrafted   \n",
       "3      111.13004                 Providence     USA  Undrafted   Undrafted   \n",
       "4      106.59412                       None     USA       1996           1   \n",
       "\n",
       "   ...  pts  reb  ast  net_rating  oreb_pct  dreb_pct  usg_pct  ts_pct  \\\n",
       "0  ...  4.6  1.7  1.6       -11.4     0.039     0.088    0.155   0.486   \n",
       "1  ...  0.3  0.8  0.0       -15.1     0.143     0.267    0.265   0.333   \n",
       "2  ...  4.5  1.6  0.9         0.9     0.016     0.115    0.151   0.535   \n",
       "3  ...  7.8  4.4  1.4        -9.0     0.083     0.152    0.167   0.542   \n",
       "4  ...  3.7  1.6  0.5       -14.5     0.109     0.118    0.233   0.482   \n",
       "\n",
       "   ast_pct   season  \n",
       "0    0.156  1996-97  \n",
       "1    0.000  1996-97  \n",
       "2    0.099  1996-97  \n",
       "3    0.101  1996-97  \n",
       "4    0.114  1996-97  \n",
       "\n",
       "[5 rows x 22 columns]"
      ]
     },
     "execution_count": 2,
     "metadata": {},
     "output_type": "execute_result"
    }
   ],
   "source": [
    "# take a first look at the data\n",
    "df = pd.read_csv('data/all_seasons.csv') \n",
    "df.head()"
   ]
  },
  {
   "cell_type": "code",
   "execution_count": 3,
   "metadata": {},
   "outputs": [
    {
     "data": {
      "text/html": [
       "<div>\n",
       "<style scoped>\n",
       "    .dataframe tbody tr th:only-of-type {\n",
       "        vertical-align: middle;\n",
       "    }\n",
       "\n",
       "    .dataframe tbody tr th {\n",
       "        vertical-align: top;\n",
       "    }\n",
       "\n",
       "    .dataframe thead th {\n",
       "        text-align: right;\n",
       "    }\n",
       "</style>\n",
       "<table border=\"1\" class=\"dataframe\">\n",
       "  <thead>\n",
       "    <tr style=\"text-align: right;\">\n",
       "      <th></th>\n",
       "      <th>player_name</th>\n",
       "      <th>team_abbreviation</th>\n",
       "      <th>age</th>\n",
       "      <th>player_height</th>\n",
       "      <th>player_weight</th>\n",
       "      <th>college</th>\n",
       "      <th>country</th>\n",
       "      <th>draft_year</th>\n",
       "      <th>draft_round</th>\n",
       "      <th>draft_number</th>\n",
       "      <th>...</th>\n",
       "      <th>pts</th>\n",
       "      <th>reb</th>\n",
       "      <th>ast</th>\n",
       "      <th>net_rating</th>\n",
       "      <th>oreb_pct</th>\n",
       "      <th>dreb_pct</th>\n",
       "      <th>usg_pct</th>\n",
       "      <th>ts_pct</th>\n",
       "      <th>ast_pct</th>\n",
       "      <th>season</th>\n",
       "    </tr>\n",
       "  </thead>\n",
       "  <tbody>\n",
       "    <tr>\n",
       "      <td>0</td>\n",
       "      <td>Chris Robinson</td>\n",
       "      <td>VAN</td>\n",
       "      <td>23.0</td>\n",
       "      <td>195.58</td>\n",
       "      <td>90.71840</td>\n",
       "      <td>Western Kentucky</td>\n",
       "      <td>USA</td>\n",
       "      <td>1996</td>\n",
       "      <td>2</td>\n",
       "      <td>51</td>\n",
       "      <td>...</td>\n",
       "      <td>4.6</td>\n",
       "      <td>1.7</td>\n",
       "      <td>1.6</td>\n",
       "      <td>-11.4</td>\n",
       "      <td>0.039</td>\n",
       "      <td>0.088</td>\n",
       "      <td>0.155</td>\n",
       "      <td>0.486</td>\n",
       "      <td>0.156</td>\n",
       "      <td>1996-97</td>\n",
       "    </tr>\n",
       "    <tr>\n",
       "      <td>1</td>\n",
       "      <td>Matt Fish</td>\n",
       "      <td>MIA</td>\n",
       "      <td>27.0</td>\n",
       "      <td>210.82</td>\n",
       "      <td>106.59412</td>\n",
       "      <td>North Carolina-Wilmington</td>\n",
       "      <td>USA</td>\n",
       "      <td>1992</td>\n",
       "      <td>2</td>\n",
       "      <td>50</td>\n",
       "      <td>...</td>\n",
       "      <td>0.3</td>\n",
       "      <td>0.8</td>\n",
       "      <td>0.0</td>\n",
       "      <td>-15.1</td>\n",
       "      <td>0.143</td>\n",
       "      <td>0.267</td>\n",
       "      <td>0.265</td>\n",
       "      <td>0.333</td>\n",
       "      <td>0.000</td>\n",
       "      <td>1996-97</td>\n",
       "    </tr>\n",
       "    <tr>\n",
       "      <td>2</td>\n",
       "      <td>Matt Bullard</td>\n",
       "      <td>HOU</td>\n",
       "      <td>30.0</td>\n",
       "      <td>208.28</td>\n",
       "      <td>106.59412</td>\n",
       "      <td>Iowa</td>\n",
       "      <td>USA</td>\n",
       "      <td>Undrafted</td>\n",
       "      <td>Undrafted</td>\n",
       "      <td>Undrafted</td>\n",
       "      <td>...</td>\n",
       "      <td>4.5</td>\n",
       "      <td>1.6</td>\n",
       "      <td>0.9</td>\n",
       "      <td>0.9</td>\n",
       "      <td>0.016</td>\n",
       "      <td>0.115</td>\n",
       "      <td>0.151</td>\n",
       "      <td>0.535</td>\n",
       "      <td>0.099</td>\n",
       "      <td>1996-97</td>\n",
       "    </tr>\n",
       "    <tr>\n",
       "      <td>3</td>\n",
       "      <td>Marty Conlon</td>\n",
       "      <td>BOS</td>\n",
       "      <td>29.0</td>\n",
       "      <td>210.82</td>\n",
       "      <td>111.13004</td>\n",
       "      <td>Providence</td>\n",
       "      <td>USA</td>\n",
       "      <td>Undrafted</td>\n",
       "      <td>Undrafted</td>\n",
       "      <td>Undrafted</td>\n",
       "      <td>...</td>\n",
       "      <td>7.8</td>\n",
       "      <td>4.4</td>\n",
       "      <td>1.4</td>\n",
       "      <td>-9.0</td>\n",
       "      <td>0.083</td>\n",
       "      <td>0.152</td>\n",
       "      <td>0.167</td>\n",
       "      <td>0.542</td>\n",
       "      <td>0.101</td>\n",
       "      <td>1996-97</td>\n",
       "    </tr>\n",
       "    <tr>\n",
       "      <td>4</td>\n",
       "      <td>Martin Muursepp</td>\n",
       "      <td>DAL</td>\n",
       "      <td>22.0</td>\n",
       "      <td>205.74</td>\n",
       "      <td>106.59412</td>\n",
       "      <td>None</td>\n",
       "      <td>USA</td>\n",
       "      <td>1996</td>\n",
       "      <td>1</td>\n",
       "      <td>25</td>\n",
       "      <td>...</td>\n",
       "      <td>3.7</td>\n",
       "      <td>1.6</td>\n",
       "      <td>0.5</td>\n",
       "      <td>-14.5</td>\n",
       "      <td>0.109</td>\n",
       "      <td>0.118</td>\n",
       "      <td>0.233</td>\n",
       "      <td>0.482</td>\n",
       "      <td>0.114</td>\n",
       "      <td>1996-97</td>\n",
       "    </tr>\n",
       "  </tbody>\n",
       "</table>\n",
       "<p>5 rows × 21 columns</p>\n",
       "</div>"
      ],
      "text/plain": [
       "       player_name team_abbreviation   age  player_height  player_weight  \\\n",
       "0   Chris Robinson               VAN  23.0         195.58       90.71840   \n",
       "1        Matt Fish               MIA  27.0         210.82      106.59412   \n",
       "2     Matt Bullard               HOU  30.0         208.28      106.59412   \n",
       "3     Marty Conlon               BOS  29.0         210.82      111.13004   \n",
       "4  Martin Muursepp               DAL  22.0         205.74      106.59412   \n",
       "\n",
       "                     college country draft_year draft_round draft_number  ...  \\\n",
       "0           Western Kentucky     USA       1996           2           51  ...   \n",
       "1  North Carolina-Wilmington     USA       1992           2           50  ...   \n",
       "2                       Iowa     USA  Undrafted   Undrafted    Undrafted  ...   \n",
       "3                 Providence     USA  Undrafted   Undrafted    Undrafted  ...   \n",
       "4                       None     USA       1996           1           25  ...   \n",
       "\n",
       "   pts  reb  ast  net_rating  oreb_pct  dreb_pct  usg_pct  ts_pct  ast_pct  \\\n",
       "0  4.6  1.7  1.6       -11.4     0.039     0.088    0.155   0.486    0.156   \n",
       "1  0.3  0.8  0.0       -15.1     0.143     0.267    0.265   0.333    0.000   \n",
       "2  4.5  1.6  0.9         0.9     0.016     0.115    0.151   0.535    0.099   \n",
       "3  7.8  4.4  1.4        -9.0     0.083     0.152    0.167   0.542    0.101   \n",
       "4  3.7  1.6  0.5       -14.5     0.109     0.118    0.233   0.482    0.114   \n",
       "\n",
       "    season  \n",
       "0  1996-97  \n",
       "1  1996-97  \n",
       "2  1996-97  \n",
       "3  1996-97  \n",
       "4  1996-97  \n",
       "\n",
       "[5 rows x 21 columns]"
      ]
     },
     "execution_count": 3,
     "metadata": {},
     "output_type": "execute_result"
    }
   ],
   "source": [
    "#remove the unwanted column\n",
    "df = df.drop('Unnamed: 0', 1)\n",
    "df.head()"
   ]
  },
  {
   "cell_type": "markdown",
   "metadata": {},
   "source": [
    "## use the info() and describe() functions to get information about the data \n"
   ]
  },
  {
   "cell_type": "code",
   "execution_count": 4,
   "metadata": {},
   "outputs": [
    {
     "data": {
      "text/html": [
       "<div>\n",
       "<style scoped>\n",
       "    .dataframe tbody tr th:only-of-type {\n",
       "        vertical-align: middle;\n",
       "    }\n",
       "\n",
       "    .dataframe tbody tr th {\n",
       "        vertical-align: top;\n",
       "    }\n",
       "\n",
       "    .dataframe thead th {\n",
       "        text-align: right;\n",
       "    }\n",
       "</style>\n",
       "<table border=\"1\" class=\"dataframe\">\n",
       "  <thead>\n",
       "    <tr style=\"text-align: right;\">\n",
       "      <th></th>\n",
       "      <th>age</th>\n",
       "      <th>player_height</th>\n",
       "      <th>player_weight</th>\n",
       "      <th>gp</th>\n",
       "      <th>pts</th>\n",
       "      <th>reb</th>\n",
       "      <th>ast</th>\n",
       "      <th>net_rating</th>\n",
       "      <th>oreb_pct</th>\n",
       "      <th>dreb_pct</th>\n",
       "      <th>usg_pct</th>\n",
       "      <th>ts_pct</th>\n",
       "      <th>ast_pct</th>\n",
       "    </tr>\n",
       "  </thead>\n",
       "  <tbody>\n",
       "    <tr>\n",
       "      <td>count</td>\n",
       "      <td>9561.000000</td>\n",
       "      <td>9561.000000</td>\n",
       "      <td>9561.000000</td>\n",
       "      <td>9561.000000</td>\n",
       "      <td>9561.000000</td>\n",
       "      <td>9561.000000</td>\n",
       "      <td>9561.000000</td>\n",
       "      <td>9561.000000</td>\n",
       "      <td>9561.000000</td>\n",
       "      <td>9561.000000</td>\n",
       "      <td>9561.000000</td>\n",
       "      <td>9561.000000</td>\n",
       "      <td>9561.000000</td>\n",
       "    </tr>\n",
       "    <tr>\n",
       "      <td>mean</td>\n",
       "      <td>27.336157</td>\n",
       "      <td>200.953442</td>\n",
       "      <td>100.975853</td>\n",
       "      <td>53.073528</td>\n",
       "      <td>8.070683</td>\n",
       "      <td>3.565161</td>\n",
       "      <td>1.788516</td>\n",
       "      <td>-2.214413</td>\n",
       "      <td>0.057963</td>\n",
       "      <td>0.142879</td>\n",
       "      <td>0.186582</td>\n",
       "      <td>0.504795</td>\n",
       "      <td>0.130812</td>\n",
       "    </tr>\n",
       "    <tr>\n",
       "      <td>std</td>\n",
       "      <td>4.350559</td>\n",
       "      <td>9.281158</td>\n",
       "      <td>12.780883</td>\n",
       "      <td>24.882139</td>\n",
       "      <td>5.888910</td>\n",
       "      <td>2.494161</td>\n",
       "      <td>1.793835</td>\n",
       "      <td>11.545131</td>\n",
       "      <td>0.044568</td>\n",
       "      <td>0.062211</td>\n",
       "      <td>0.052344</td>\n",
       "      <td>0.093493</td>\n",
       "      <td>0.095428</td>\n",
       "    </tr>\n",
       "    <tr>\n",
       "      <td>min</td>\n",
       "      <td>18.000000</td>\n",
       "      <td>160.020000</td>\n",
       "      <td>60.327736</td>\n",
       "      <td>1.000000</td>\n",
       "      <td>0.000000</td>\n",
       "      <td>0.000000</td>\n",
       "      <td>0.000000</td>\n",
       "      <td>-200.000000</td>\n",
       "      <td>0.000000</td>\n",
       "      <td>0.000000</td>\n",
       "      <td>0.000000</td>\n",
       "      <td>0.000000</td>\n",
       "      <td>0.000000</td>\n",
       "    </tr>\n",
       "    <tr>\n",
       "      <td>25%</td>\n",
       "      <td>24.000000</td>\n",
       "      <td>195.580000</td>\n",
       "      <td>91.171992</td>\n",
       "      <td>34.000000</td>\n",
       "      <td>3.500000</td>\n",
       "      <td>1.800000</td>\n",
       "      <td>0.500000</td>\n",
       "      <td>-6.400000</td>\n",
       "      <td>0.023000</td>\n",
       "      <td>0.097000</td>\n",
       "      <td>0.152000</td>\n",
       "      <td>0.476000</td>\n",
       "      <td>0.063000</td>\n",
       "    </tr>\n",
       "    <tr>\n",
       "      <td>50%</td>\n",
       "      <td>27.000000</td>\n",
       "      <td>203.200000</td>\n",
       "      <td>100.697424</td>\n",
       "      <td>60.000000</td>\n",
       "      <td>6.600000</td>\n",
       "      <td>3.000000</td>\n",
       "      <td>1.200000</td>\n",
       "      <td>-1.400000</td>\n",
       "      <td>0.046000</td>\n",
       "      <td>0.134000</td>\n",
       "      <td>0.184000</td>\n",
       "      <td>0.518000</td>\n",
       "      <td>0.102000</td>\n",
       "    </tr>\n",
       "    <tr>\n",
       "      <td>75%</td>\n",
       "      <td>30.000000</td>\n",
       "      <td>208.280000</td>\n",
       "      <td>111.130040</td>\n",
       "      <td>75.000000</td>\n",
       "      <td>11.400000</td>\n",
       "      <td>4.700000</td>\n",
       "      <td>2.400000</td>\n",
       "      <td>3.100000</td>\n",
       "      <td>0.088000</td>\n",
       "      <td>0.184000</td>\n",
       "      <td>0.218000</td>\n",
       "      <td>0.552000</td>\n",
       "      <td>0.178000</td>\n",
       "    </tr>\n",
       "    <tr>\n",
       "      <td>max</td>\n",
       "      <td>44.000000</td>\n",
       "      <td>231.140000</td>\n",
       "      <td>163.293120</td>\n",
       "      <td>85.000000</td>\n",
       "      <td>35.400000</td>\n",
       "      <td>16.300000</td>\n",
       "      <td>11.700000</td>\n",
       "      <td>300.000000</td>\n",
       "      <td>1.000000</td>\n",
       "      <td>1.000000</td>\n",
       "      <td>1.000000</td>\n",
       "      <td>1.064000</td>\n",
       "      <td>1.000000</td>\n",
       "    </tr>\n",
       "  </tbody>\n",
       "</table>\n",
       "</div>"
      ],
      "text/plain": [
       "               age  player_height  player_weight           gp          pts  \\\n",
       "count  9561.000000    9561.000000    9561.000000  9561.000000  9561.000000   \n",
       "mean     27.336157     200.953442     100.975853    53.073528     8.070683   \n",
       "std       4.350559       9.281158      12.780883    24.882139     5.888910   \n",
       "min      18.000000     160.020000      60.327736     1.000000     0.000000   \n",
       "25%      24.000000     195.580000      91.171992    34.000000     3.500000   \n",
       "50%      27.000000     203.200000     100.697424    60.000000     6.600000   \n",
       "75%      30.000000     208.280000     111.130040    75.000000    11.400000   \n",
       "max      44.000000     231.140000     163.293120    85.000000    35.400000   \n",
       "\n",
       "               reb          ast   net_rating     oreb_pct     dreb_pct  \\\n",
       "count  9561.000000  9561.000000  9561.000000  9561.000000  9561.000000   \n",
       "mean      3.565161     1.788516    -2.214413     0.057963     0.142879   \n",
       "std       2.494161     1.793835    11.545131     0.044568     0.062211   \n",
       "min       0.000000     0.000000  -200.000000     0.000000     0.000000   \n",
       "25%       1.800000     0.500000    -6.400000     0.023000     0.097000   \n",
       "50%       3.000000     1.200000    -1.400000     0.046000     0.134000   \n",
       "75%       4.700000     2.400000     3.100000     0.088000     0.184000   \n",
       "max      16.300000    11.700000   300.000000     1.000000     1.000000   \n",
       "\n",
       "           usg_pct       ts_pct      ast_pct  \n",
       "count  9561.000000  9561.000000  9561.000000  \n",
       "mean      0.186582     0.504795     0.130812  \n",
       "std       0.052344     0.093493     0.095428  \n",
       "min       0.000000     0.000000     0.000000  \n",
       "25%       0.152000     0.476000     0.063000  \n",
       "50%       0.184000     0.518000     0.102000  \n",
       "75%       0.218000     0.552000     0.178000  \n",
       "max       1.000000     1.064000     1.000000  "
      ]
     },
     "execution_count": 4,
     "metadata": {},
     "output_type": "execute_result"
    }
   ],
   "source": [
    "df.describe()"
   ]
  },
  {
   "cell_type": "code",
   "execution_count": 5,
   "metadata": {},
   "outputs": [
    {
     "name": "stdout",
     "output_type": "stream",
     "text": [
      "<class 'pandas.core.frame.DataFrame'>\n",
      "RangeIndex: 9561 entries, 0 to 9560\n",
      "Data columns (total 21 columns):\n",
      "player_name          9561 non-null object\n",
      "team_abbreviation    9561 non-null object\n",
      "age                  9561 non-null float64\n",
      "player_height        9561 non-null float64\n",
      "player_weight        9561 non-null float64\n",
      "college              9561 non-null object\n",
      "country              9561 non-null object\n",
      "draft_year           9561 non-null object\n",
      "draft_round          9561 non-null object\n",
      "draft_number         9561 non-null object\n",
      "gp                   9561 non-null int64\n",
      "pts                  9561 non-null float64\n",
      "reb                  9561 non-null float64\n",
      "ast                  9561 non-null float64\n",
      "net_rating           9561 non-null float64\n",
      "oreb_pct             9561 non-null float64\n",
      "dreb_pct             9561 non-null float64\n",
      "usg_pct              9561 non-null float64\n",
      "ts_pct               9561 non-null float64\n",
      "ast_pct              9561 non-null float64\n",
      "season               9561 non-null object\n",
      "dtypes: float64(12), int64(1), object(8)\n",
      "memory usage: 1.5+ MB\n"
     ]
    }
   ],
   "source": [
    "df.info()"
   ]
  },
  {
   "cell_type": "code",
   "execution_count": 6,
   "metadata": {},
   "outputs": [
    {
     "data": {
      "text/plain": [
       "player_name          0\n",
       "team_abbreviation    0\n",
       "age                  0\n",
       "player_height        0\n",
       "player_weight        0\n",
       "college              0\n",
       "country              0\n",
       "draft_year           0\n",
       "draft_round          0\n",
       "draft_number         0\n",
       "gp                   0\n",
       "pts                  0\n",
       "reb                  0\n",
       "ast                  0\n",
       "net_rating           0\n",
       "oreb_pct             0\n",
       "dreb_pct             0\n",
       "usg_pct              0\n",
       "ts_pct               0\n",
       "ast_pct              0\n",
       "season               0\n",
       "dtype: int64"
      ]
     },
     "execution_count": 6,
     "metadata": {},
     "output_type": "execute_result"
    }
   ],
   "source": [
    "# check for null values in the data \n",
    "df.isnull().sum()"
   ]
  },
  {
   "cell_type": "code",
   "execution_count": 7,
   "metadata": {},
   "outputs": [],
   "source": [
    "# player_name - the player's name\n",
    "# team_abbreviation - which team did he played for\n",
    "# age - the player's age\n",
    "# player_height - the player's height\n",
    "# player_weight - the player's weight\n",
    "# college - which college did he go to (and if he did)\n",
    "# country - in which country he was born\n",
    "# draft_year - in which year he was drafted (and if he did)\n",
    "# draft_round - in which round he was drafted in his draft year (and if he did)\n",
    "# draft_number - the number at which the player was picked in his draft round (and if he did)\n",
    "# gp - how many game the player played throughout the season\n",
    "# pts - the average number of points scored by this player\n",
    "# reb - the average number of rebounds grabbed by this player\n",
    "# ast - the average number of asissts passed by this player\n",
    "# net_rating - teams points differential by 100 possessions when this playes is playing  \n",
    "# oreb_pct - the Percentage of available offensive rebounds the player grabbed\n",
    "# dreb_pct - the Percentage of available defensive rebounds the player grabbed\n",
    "# usg_pct - Percentage of team plays used by the player while he was on the floor\n",
    "# ts_pct - Measure of the player's shooting efficiency\n",
    "# ast_pct - the ratio between the player's assists and the total assists of the team when the player is on the floor\n",
    "# season - the NBA season"
   ]
  },
  {
   "cell_type": "markdown",
   "metadata": {},
   "source": [
    "## some graphs to understand the data a bit better using matplotlib"
   ]
  },
  {
   "cell_type": "code",
   "execution_count": 8,
   "metadata": {},
   "outputs": [
    {
     "data": {
      "image/png": "[encoded data removed]",
      "text/plain": [
       "<Figure size 1008x504 with 1 Axes>"
      ]
     },
     "metadata": {
      "needs_background": "light"
     },
     "output_type": "display_data"
    }
   ],
   "source": [
    "fig = plt.figure(figsize = (14,7))\n",
    "df['country'].value_counts().plot.bar()\n",
    "\n",
    "plt.xlabel(\"country name\", fontsize = 20)\n",
    "plt.ylabel(\"amount of players\", fontsize = 20)\n",
    "plt.title(\"The amount of players from each country\", fontsize = 20)\n",
    "plt.savefig(\"nbaPic/graph1.png\", bbox_inches='tight')"
   ]
  },
  {
   "cell_type": "code",
   "execution_count": 9,
   "metadata": {},
   "outputs": [
    {
     "data": {
      "image/png": "[encoded data removed]",
      "text/plain": [
       "<Figure size 432x288 with 1 Axes>"
      ]
     },
     "metadata": {},
     "output_type": "display_data"
    }
   ],
   "source": [
    "# in the last graph we saw that most players are from USA \n",
    "# so now with pie chart we will see the ratio between USA and the rest of the world\n",
    "# Pie chart\n",
    "labels = 'USA', 'Others'\n",
    "usa = df[df['country'] == \"USA\"]['country'].count()\n",
    "others = df[df['country'] != \"USA\"]['country'].count()\n",
    "sizes = [usa, others]\n",
    "\n",
    "fig1, ax1 = plt.subplots()\n",
    "ax1.pie(sizes, labels=labels, autopct='%1.1f%%', shadow=True, startangle=90)\n",
    "ax1.axis('equal')  # Equal aspect ratio ensures that pie is drawn as a circle.\n",
    "\n",
    "\n",
    "plt.title(\"The ratio between the the amount of USA players and the rest of the world\", fontsize = 20)\n",
    "\n",
    "plt.savefig(\"nbaPic/graph2.png\", bbox_inches='tight')"
   ]
  },
  {
   "cell_type": "code",
   "execution_count": 10,
   "metadata": {},
   "outputs": [
    {
     "data": {
      "image/png": "[encoded data removed]",
      "text/plain": [
       "<Figure size 1008x504 with 1 Axes>"
      ]
     },
     "metadata": {
      "needs_background": "light"
     },
     "output_type": "display_data"
    }
   ],
   "source": [
    "#bar plot which shows us the players average points for each country\n",
    "fig = plt.figure(figsize = (14,7))\n",
    "axes = fig.add_axes([0.1 ,0.1 ,0.9 ,0.9])\n",
    "y = df.groupby('country')['pts'].mean()\n",
    "x = df['country'].unique()\n",
    "plt.xticks(rotation=90, fontsize=10)\n",
    "plt.yticks(np.arange(0,21,1))\n",
    "plt.xlabel(\"country name\", fontsize = 20)\n",
    "plt.ylabel(\"average points\", fontsize = 20)\n",
    "plt.title(\"The average points of each country\", fontsize = 20)\n",
    "\n",
    "axes.bar(x,y)\n",
    "plt.savefig(\"nbaPic/graph3.png\", bbox_inches='tight')"
   ]
  },
  {
   "cell_type": "code",
   "execution_count": 11,
   "metadata": {},
   "outputs": [
    {
     "data": {
      "image/png": "[encoded data removed]",
      "text/plain": [
       "<Figure size 1008x504 with 1 Axes>"
      ]
     },
     "metadata": {
      "needs_background": "light"
     },
     "output_type": "display_data"
    }
   ],
   "source": [
    "# scatter plot that shows us the players average points of each team\n",
    "fig, axes = plt.subplots(figsize = (14,7))\n",
    "y = df.groupby('team_abbreviation')['pts'].mean()\n",
    "x = df['team_abbreviation'].unique()\n",
    "plt.xticks(rotation=90, fontsize=10)\n",
    "plt.xlabel(\"team name\", fontsize = 20)\n",
    "plt.ylabel(\"average points\", fontsize = 20)\n",
    "\n",
    "plt.title(\"The average points of each team\", fontsize = 20)\n",
    "\n",
    "\n",
    "axes.scatter(x,y)\n",
    "plt.savefig(\"nbaPic/graph4.png\", bbox_inches='tight')"
   ]
  },
  {
   "cell_type": "code",
   "execution_count": 12,
   "metadata": {},
   "outputs": [
    {
     "data": {
      "image/png": "[encoded data removed]",
      "text/plain": [
       "<Figure size 1008x504 with 1 Axes>"
      ]
     },
     "metadata": {
      "needs_background": "light"
     },
     "output_type": "display_data"
    }
   ],
   "source": [
    "# bar plot that shows us the the players average age for each team\n",
    "fig, axes = plt.subplots(figsize = (14,7))\n",
    "y = df.groupby('team_abbreviation')['age'].mean()\n",
    "x = df['team_abbreviation'].unique()\n",
    "plt.xticks(rotation=90, fontsize=10)\n",
    "plt.yticks(np.arange(26,31,0.5))\n",
    "plt.ylim(26,31)\n",
    "plt.xlabel(\"team name\", fontsize = 20)\n",
    "plt.ylabel(\"average age\", fontsize = 20)\n",
    "plt.title(\"The average age of each team\", fontsize = 25)\n",
    "\n",
    "plt.bar(x,y)\n",
    "plt.savefig(\"nbaPic/graph5.png\", bbox_inches='tight')"
   ]
  },
  {
   "cell_type": "code",
   "execution_count": 13,
   "metadata": {},
   "outputs": [
    {
     "data": {
      "image/png": "[encoded data removed]",
      "text/plain": [
       "<Figure size 432x288 with 1 Axes>"
      ]
     },
     "metadata": {
      "needs_background": "light"
     },
     "output_type": "display_data"
    }
   ],
   "source": [
    "# now we want to check if the ratio between height and weight effect the net rating \n",
    "# so we plot a scatter plot to show us the net rating and the height/weight ratio for each player\n",
    "fig, axes = plt.subplots()\n",
    "x = df['player_height']/df['player_weight']    #the average ratio between height and weight in the NBA is 2.05\n",
    "y = df['net_rating']\n",
    "plt.scatter(x,y, alpha = 0.5)\n",
    "\n",
    "plt.yticks(np.arange(-100,101,20))\n",
    "plt.ylim(-100,101)\n",
    "plt.xlabel(\"ratio between height and weight\", fontsize = 20)\n",
    "plt.ylabel(\"net rating\", fontsize = 20)\n",
    "plt.title(\"The net rating and the height/weight ratio for each player\", fontsize = 25)\n",
    "\n",
    "plt.savefig(\"nbaPic/graph6.png\", bbox_inches='tight')"
   ]
  },
  {
   "cell_type": "markdown",
   "metadata": {},
   "source": [
    "## now lets import seaborn and use it to plot some graphs"
   ]
  },
  {
   "cell_type": "code",
   "execution_count": 14,
   "metadata": {},
   "outputs": [],
   "source": [
    "import seaborn as sns"
   ]
  },
  {
   "cell_type": "code",
   "execution_count": 15,
   "metadata": {},
   "outputs": [
    {
     "data": {
      "image/png": "[encoded data removed]",
      "text/plain": [
       "<Figure size 432x432 with 3 Axes>"
      ]
     },
     "metadata": {
      "needs_background": "light"
     },
     "output_type": "display_data"
    }
   ],
   "source": [
    "#jointplot to see the ratio between the height/weight of all the players in the data \n",
    "sns.jointplot(x='player_weight', y='player_height', data=df, kind='kde')\n",
    "plt.savefig(\"nbaPic/graph7.png\", bbox_inches='tight')"
   ]
  },
  {
   "cell_type": "code",
   "execution_count": 16,
   "metadata": {},
   "outputs": [
    {
     "data": {
      "text/html": [
       "<div>\n",
       "<style scoped>\n",
       "    .dataframe tbody tr th:only-of-type {\n",
       "        vertical-align: middle;\n",
       "    }\n",
       "\n",
       "    .dataframe tbody tr th {\n",
       "        vertical-align: top;\n",
       "    }\n",
       "\n",
       "    .dataframe thead th {\n",
       "        text-align: right;\n",
       "    }\n",
       "</style>\n",
       "<table border=\"1\" class=\"dataframe\">\n",
       "  <thead>\n",
       "    <tr style=\"text-align: right;\">\n",
       "      <th></th>\n",
       "      <th>player_name</th>\n",
       "      <th>team_abbreviation</th>\n",
       "      <th>age</th>\n",
       "      <th>player_height</th>\n",
       "      <th>player_weight</th>\n",
       "      <th>college</th>\n",
       "      <th>country</th>\n",
       "      <th>draft_year</th>\n",
       "      <th>draft_round</th>\n",
       "      <th>draft_number</th>\n",
       "      <th>...</th>\n",
       "      <th>reb</th>\n",
       "      <th>ast</th>\n",
       "      <th>net_rating</th>\n",
       "      <th>oreb_pct</th>\n",
       "      <th>dreb_pct</th>\n",
       "      <th>usg_pct</th>\n",
       "      <th>ts_pct</th>\n",
       "      <th>ast_pct</th>\n",
       "      <th>season</th>\n",
       "      <th>height_weight_ratio</th>\n",
       "    </tr>\n",
       "  </thead>\n",
       "  <tbody>\n",
       "    <tr>\n",
       "      <td>0</td>\n",
       "      <td>Chris Robinson</td>\n",
       "      <td>VAN</td>\n",
       "      <td>23.0</td>\n",
       "      <td>195.58</td>\n",
       "      <td>90.71840</td>\n",
       "      <td>Western Kentucky</td>\n",
       "      <td>USA</td>\n",
       "      <td>1996</td>\n",
       "      <td>2</td>\n",
       "      <td>51</td>\n",
       "      <td>...</td>\n",
       "      <td>1.7</td>\n",
       "      <td>1.6</td>\n",
       "      <td>-11.4</td>\n",
       "      <td>0.039</td>\n",
       "      <td>0.088</td>\n",
       "      <td>0.155</td>\n",
       "      <td>0.486</td>\n",
       "      <td>0.156</td>\n",
       "      <td>1996-97</td>\n",
       "      <td>2.155902</td>\n",
       "    </tr>\n",
       "    <tr>\n",
       "      <td>1</td>\n",
       "      <td>Matt Fish</td>\n",
       "      <td>MIA</td>\n",
       "      <td>27.0</td>\n",
       "      <td>210.82</td>\n",
       "      <td>106.59412</td>\n",
       "      <td>North Carolina-Wilmington</td>\n",
       "      <td>USA</td>\n",
       "      <td>1992</td>\n",
       "      <td>2</td>\n",
       "      <td>50</td>\n",
       "      <td>...</td>\n",
       "      <td>0.8</td>\n",
       "      <td>0.0</td>\n",
       "      <td>-15.1</td>\n",
       "      <td>0.143</td>\n",
       "      <td>0.267</td>\n",
       "      <td>0.265</td>\n",
       "      <td>0.333</td>\n",
       "      <td>0.000</td>\n",
       "      <td>1996-97</td>\n",
       "      <td>1.977783</td>\n",
       "    </tr>\n",
       "    <tr>\n",
       "      <td>2</td>\n",
       "      <td>Matt Bullard</td>\n",
       "      <td>HOU</td>\n",
       "      <td>30.0</td>\n",
       "      <td>208.28</td>\n",
       "      <td>106.59412</td>\n",
       "      <td>Iowa</td>\n",
       "      <td>USA</td>\n",
       "      <td>Undrafted</td>\n",
       "      <td>Undrafted</td>\n",
       "      <td>Undrafted</td>\n",
       "      <td>...</td>\n",
       "      <td>1.6</td>\n",
       "      <td>0.9</td>\n",
       "      <td>0.9</td>\n",
       "      <td>0.016</td>\n",
       "      <td>0.115</td>\n",
       "      <td>0.151</td>\n",
       "      <td>0.535</td>\n",
       "      <td>0.099</td>\n",
       "      <td>1996-97</td>\n",
       "      <td>1.953954</td>\n",
       "    </tr>\n",
       "    <tr>\n",
       "      <td>3</td>\n",
       "      <td>Marty Conlon</td>\n",
       "      <td>BOS</td>\n",
       "      <td>29.0</td>\n",
       "      <td>210.82</td>\n",
       "      <td>111.13004</td>\n",
       "      <td>Providence</td>\n",
       "      <td>USA</td>\n",
       "      <td>Undrafted</td>\n",
       "      <td>Undrafted</td>\n",
       "      <td>Undrafted</td>\n",
       "      <td>...</td>\n",
       "      <td>4.4</td>\n",
       "      <td>1.4</td>\n",
       "      <td>-9.0</td>\n",
       "      <td>0.083</td>\n",
       "      <td>0.152</td>\n",
       "      <td>0.167</td>\n",
       "      <td>0.542</td>\n",
       "      <td>0.101</td>\n",
       "      <td>1996-97</td>\n",
       "      <td>1.897057</td>\n",
       "    </tr>\n",
       "    <tr>\n",
       "      <td>4</td>\n",
       "      <td>Martin Muursepp</td>\n",
       "      <td>DAL</td>\n",
       "      <td>22.0</td>\n",
       "      <td>205.74</td>\n",
       "      <td>106.59412</td>\n",
       "      <td>None</td>\n",
       "      <td>USA</td>\n",
       "      <td>1996</td>\n",
       "      <td>1</td>\n",
       "      <td>25</td>\n",
       "      <td>...</td>\n",
       "      <td>1.6</td>\n",
       "      <td>0.5</td>\n",
       "      <td>-14.5</td>\n",
       "      <td>0.109</td>\n",
       "      <td>0.118</td>\n",
       "      <td>0.233</td>\n",
       "      <td>0.482</td>\n",
       "      <td>0.114</td>\n",
       "      <td>1996-97</td>\n",
       "      <td>1.930125</td>\n",
       "    </tr>\n",
       "  </tbody>\n",
       "</table>\n",
       "<p>5 rows × 22 columns</p>\n",
       "</div>"
      ],
      "text/plain": [
       "       player_name team_abbreviation   age  player_height  player_weight  \\\n",
       "0   Chris Robinson               VAN  23.0         195.58       90.71840   \n",
       "1        Matt Fish               MIA  27.0         210.82      106.59412   \n",
       "2     Matt Bullard               HOU  30.0         208.28      106.59412   \n",
       "3     Marty Conlon               BOS  29.0         210.82      111.13004   \n",
       "4  Martin Muursepp               DAL  22.0         205.74      106.59412   \n",
       "\n",
       "                     college country draft_year draft_round draft_number  ...  \\\n",
       "0           Western Kentucky     USA       1996           2           51  ...   \n",
       "1  North Carolina-Wilmington     USA       1992           2           50  ...   \n",
       "2                       Iowa     USA  Undrafted   Undrafted    Undrafted  ...   \n",
       "3                 Providence     USA  Undrafted   Undrafted    Undrafted  ...   \n",
       "4                       None     USA       1996           1           25  ...   \n",
       "\n",
       "   reb  ast  net_rating  oreb_pct  dreb_pct  usg_pct  ts_pct  ast_pct  \\\n",
       "0  1.7  1.6       -11.4     0.039     0.088    0.155   0.486    0.156   \n",
       "1  0.8  0.0       -15.1     0.143     0.267    0.265   0.333    0.000   \n",
       "2  1.6  0.9         0.9     0.016     0.115    0.151   0.535    0.099   \n",
       "3  4.4  1.4        -9.0     0.083     0.152    0.167   0.542    0.101   \n",
       "4  1.6  0.5       -14.5     0.109     0.118    0.233   0.482    0.114   \n",
       "\n",
       "    season  height_weight_ratio  \n",
       "0  1996-97             2.155902  \n",
       "1  1996-97             1.977783  \n",
       "2  1996-97             1.953954  \n",
       "3  1996-97             1.897057  \n",
       "4  1996-97             1.930125  \n",
       "\n",
       "[5 rows x 22 columns]"
      ]
     },
     "execution_count": 16,
     "metadata": {},
     "output_type": "execute_result"
    }
   ],
   "source": [
    "#we want to use the height to weight ratio for other graphs.\n",
    "#therefore we will make a new column with this ratio from the players data in a copy data\n",
    "temp = df.copy()\n",
    "temp['height_weight_ratio'] = temp['player_height']/temp['player_weight']\n",
    "temp.head()"
   ]
  },
  {
   "cell_type": "code",
   "execution_count": 17,
   "metadata": {},
   "outputs": [
    {
     "data": {
      "image/png": "[encoded data removed]",
      "text/plain": [
       "<Figure size 432x432 with 3 Axes>"
      ]
     },
     "metadata": {
      "needs_background": "light"
     },
     "output_type": "display_data"
    }
   ],
   "source": [
    "#jointplot with the height weight ratio and the players points\n",
    "sn = sns.jointplot(x = 'height_weight_ratio', y = 'pts',data = temp,  kind='kde')\n",
    "plt.savefig(\"nbaPic/graph8.png\", bbox_inches='tight')\n"
   ]
  },
  {
   "cell_type": "code",
   "execution_count": 18,
   "metadata": {},
   "outputs": [
    {
     "data": {
      "image/png": "[encoded data removed]",
      "text/plain": [
       "<Figure size 432x432 with 3 Axes>"
      ]
     },
     "metadata": {
      "needs_background": "light"
     },
     "output_type": "display_data"
    }
   ],
   "source": [
    "#jointplot with the height weight ratio and the players net rating\n",
    "sns.jointplot(x = 'height_weight_ratio', y = 'net_rating', data = temp,  kind='kde')\n",
    "plt.savefig(\"nbaPic/graph9.png\", bbox_inches='tight')\n"
   ]
  },
  {
   "cell_type": "markdown",
   "metadata": {},
   "source": [
    "### we can see that this graph is not easy to read and understand. therefore we will edit him a bit"
   ]
  },
  {
   "cell_type": "code",
   "execution_count": 19,
   "metadata": {},
   "outputs": [
    {
     "data": {
      "image/png": "[encoded data removed]",
      "text/plain": [
       "<Figure size 432x432 with 3 Axes>"
      ]
     },
     "metadata": {
      "needs_background": "light"
     },
     "output_type": "display_data"
    }
   ],
   "source": [
    "sns.jointplot(x = 'height_weight_ratio', y = 'net_rating', data  = temp, kind='kde')\n",
    "plt.ylim(-25,25)\n",
    "plt.savefig(\"nbaPic/graph10.png\", bbox_inches='tight')\n"
   ]
  },
  {
   "cell_type": "markdown",
   "metadata": {},
   "source": [
    "### lets look at the data again"
   ]
  },
  {
   "cell_type": "code",
   "execution_count": 20,
   "metadata": {},
   "outputs": [
    {
     "data": {
      "text/html": [
       "<div>\n",
       "<style scoped>\n",
       "    .dataframe tbody tr th:only-of-type {\n",
       "        vertical-align: middle;\n",
       "    }\n",
       "\n",
       "    .dataframe tbody tr th {\n",
       "        vertical-align: top;\n",
       "    }\n",
       "\n",
       "    .dataframe thead th {\n",
       "        text-align: right;\n",
       "    }\n",
       "</style>\n",
       "<table border=\"1\" class=\"dataframe\">\n",
       "  <thead>\n",
       "    <tr style=\"text-align: right;\">\n",
       "      <th></th>\n",
       "      <th>player_name</th>\n",
       "      <th>team_abbreviation</th>\n",
       "      <th>age</th>\n",
       "      <th>player_height</th>\n",
       "      <th>player_weight</th>\n",
       "      <th>college</th>\n",
       "      <th>country</th>\n",
       "      <th>draft_year</th>\n",
       "      <th>draft_round</th>\n",
       "      <th>draft_number</th>\n",
       "      <th>...</th>\n",
       "      <th>pts</th>\n",
       "      <th>reb</th>\n",
       "      <th>ast</th>\n",
       "      <th>net_rating</th>\n",
       "      <th>oreb_pct</th>\n",
       "      <th>dreb_pct</th>\n",
       "      <th>usg_pct</th>\n",
       "      <th>ts_pct</th>\n",
       "      <th>ast_pct</th>\n",
       "      <th>season</th>\n",
       "    </tr>\n",
       "  </thead>\n",
       "  <tbody>\n",
       "    <tr>\n",
       "      <td>0</td>\n",
       "      <td>Chris Robinson</td>\n",
       "      <td>VAN</td>\n",
       "      <td>23.0</td>\n",
       "      <td>195.58</td>\n",
       "      <td>90.71840</td>\n",
       "      <td>Western Kentucky</td>\n",
       "      <td>USA</td>\n",
       "      <td>1996</td>\n",
       "      <td>2</td>\n",
       "      <td>51</td>\n",
       "      <td>...</td>\n",
       "      <td>4.6</td>\n",
       "      <td>1.7</td>\n",
       "      <td>1.6</td>\n",
       "      <td>-11.4</td>\n",
       "      <td>0.039</td>\n",
       "      <td>0.088</td>\n",
       "      <td>0.155</td>\n",
       "      <td>0.486</td>\n",
       "      <td>0.156</td>\n",
       "      <td>1996-97</td>\n",
       "    </tr>\n",
       "    <tr>\n",
       "      <td>1</td>\n",
       "      <td>Matt Fish</td>\n",
       "      <td>MIA</td>\n",
       "      <td>27.0</td>\n",
       "      <td>210.82</td>\n",
       "      <td>106.59412</td>\n",
       "      <td>North Carolina-Wilmington</td>\n",
       "      <td>USA</td>\n",
       "      <td>1992</td>\n",
       "      <td>2</td>\n",
       "      <td>50</td>\n",
       "      <td>...</td>\n",
       "      <td>0.3</td>\n",
       "      <td>0.8</td>\n",
       "      <td>0.0</td>\n",
       "      <td>-15.1</td>\n",
       "      <td>0.143</td>\n",
       "      <td>0.267</td>\n",
       "      <td>0.265</td>\n",
       "      <td>0.333</td>\n",
       "      <td>0.000</td>\n",
       "      <td>1996-97</td>\n",
       "    </tr>\n",
       "    <tr>\n",
       "      <td>2</td>\n",
       "      <td>Matt Bullard</td>\n",
       "      <td>HOU</td>\n",
       "      <td>30.0</td>\n",
       "      <td>208.28</td>\n",
       "      <td>106.59412</td>\n",
       "      <td>Iowa</td>\n",
       "      <td>USA</td>\n",
       "      <td>Undrafted</td>\n",
       "      <td>Undrafted</td>\n",
       "      <td>Undrafted</td>\n",
       "      <td>...</td>\n",
       "      <td>4.5</td>\n",
       "      <td>1.6</td>\n",
       "      <td>0.9</td>\n",
       "      <td>0.9</td>\n",
       "      <td>0.016</td>\n",
       "      <td>0.115</td>\n",
       "      <td>0.151</td>\n",
       "      <td>0.535</td>\n",
       "      <td>0.099</td>\n",
       "      <td>1996-97</td>\n",
       "    </tr>\n",
       "    <tr>\n",
       "      <td>3</td>\n",
       "      <td>Marty Conlon</td>\n",
       "      <td>BOS</td>\n",
       "      <td>29.0</td>\n",
       "      <td>210.82</td>\n",
       "      <td>111.13004</td>\n",
       "      <td>Providence</td>\n",
       "      <td>USA</td>\n",
       "      <td>Undrafted</td>\n",
       "      <td>Undrafted</td>\n",
       "      <td>Undrafted</td>\n",
       "      <td>...</td>\n",
       "      <td>7.8</td>\n",
       "      <td>4.4</td>\n",
       "      <td>1.4</td>\n",
       "      <td>-9.0</td>\n",
       "      <td>0.083</td>\n",
       "      <td>0.152</td>\n",
       "      <td>0.167</td>\n",
       "      <td>0.542</td>\n",
       "      <td>0.101</td>\n",
       "      <td>1996-97</td>\n",
       "    </tr>\n",
       "    <tr>\n",
       "      <td>4</td>\n",
       "      <td>Martin Muursepp</td>\n",
       "      <td>DAL</td>\n",
       "      <td>22.0</td>\n",
       "      <td>205.74</td>\n",
       "      <td>106.59412</td>\n",
       "      <td>None</td>\n",
       "      <td>USA</td>\n",
       "      <td>1996</td>\n",
       "      <td>1</td>\n",
       "      <td>25</td>\n",
       "      <td>...</td>\n",
       "      <td>3.7</td>\n",
       "      <td>1.6</td>\n",
       "      <td>0.5</td>\n",
       "      <td>-14.5</td>\n",
       "      <td>0.109</td>\n",
       "      <td>0.118</td>\n",
       "      <td>0.233</td>\n",
       "      <td>0.482</td>\n",
       "      <td>0.114</td>\n",
       "      <td>1996-97</td>\n",
       "    </tr>\n",
       "  </tbody>\n",
       "</table>\n",
       "<p>5 rows × 21 columns</p>\n",
       "</div>"
      ],
      "text/plain": [
       "       player_name team_abbreviation   age  player_height  player_weight  \\\n",
       "0   Chris Robinson               VAN  23.0         195.58       90.71840   \n",
       "1        Matt Fish               MIA  27.0         210.82      106.59412   \n",
       "2     Matt Bullard               HOU  30.0         208.28      106.59412   \n",
       "3     Marty Conlon               BOS  29.0         210.82      111.13004   \n",
       "4  Martin Muursepp               DAL  22.0         205.74      106.59412   \n",
       "\n",
       "                     college country draft_year draft_round draft_number  ...  \\\n",
       "0           Western Kentucky     USA       1996           2           51  ...   \n",
       "1  North Carolina-Wilmington     USA       1992           2           50  ...   \n",
       "2                       Iowa     USA  Undrafted   Undrafted    Undrafted  ...   \n",
       "3                 Providence     USA  Undrafted   Undrafted    Undrafted  ...   \n",
       "4                       None     USA       1996           1           25  ...   \n",
       "\n",
       "   pts  reb  ast  net_rating  oreb_pct  dreb_pct  usg_pct  ts_pct  ast_pct  \\\n",
       "0  4.6  1.7  1.6       -11.4     0.039     0.088    0.155   0.486    0.156   \n",
       "1  0.3  0.8  0.0       -15.1     0.143     0.267    0.265   0.333    0.000   \n",
       "2  4.5  1.6  0.9         0.9     0.016     0.115    0.151   0.535    0.099   \n",
       "3  7.8  4.4  1.4        -9.0     0.083     0.152    0.167   0.542    0.101   \n",
       "4  3.7  1.6  0.5       -14.5     0.109     0.118    0.233   0.482    0.114   \n",
       "\n",
       "    season  \n",
       "0  1996-97  \n",
       "1  1996-97  \n",
       "2  1996-97  \n",
       "3  1996-97  \n",
       "4  1996-97  \n",
       "\n",
       "[5 rows x 21 columns]"
      ]
     },
     "execution_count": 20,
     "metadata": {},
     "output_type": "execute_result"
    }
   ],
   "source": [
    "df.head()"
   ]
  },
  {
   "cell_type": "markdown",
   "metadata": {},
   "source": [
    "### we can see that dratf year/round/number type is string so lets check it out"
   ]
  },
  {
   "cell_type": "code",
   "execution_count": 21,
   "metadata": {},
   "outputs": [
    {
     "data": {
      "text/plain": [
       "array(['2', 'Undrafted', '1', '7', '3', '6', '4', '8'], dtype=object)"
      ]
     },
     "execution_count": 21,
     "metadata": {},
     "output_type": "execute_result"
    }
   ],
   "source": [
    "df['draft_round'].unique()"
   ]
  },
  {
   "cell_type": "code",
   "execution_count": 22,
   "metadata": {},
   "outputs": [
    {
     "data": {
      "text/plain": [
       "array(['1996', '1992', 'Undrafted', '1995', '1983', '1986', '1987',\n",
       "       '1988', '1985', '1990', '1993', '1991', '1989', '1984', '1994',\n",
       "       '1978', '1982', '1981', '1976', '1980', '1979', '1997', '1998',\n",
       "       '1999', '2000', '2001', '2002', '2003', '2004', '2005', '2006',\n",
       "       '2007', '2008', '2009', '2010', '2011', '1963', '2012', '2013',\n",
       "       '2014', '2015', '2016'], dtype=object)"
      ]
     },
     "execution_count": 22,
     "metadata": {},
     "output_type": "execute_result"
    }
   ],
   "source": [
    "df['draft_year'].unique()"
   ]
  },
  {
   "cell_type": "code",
   "execution_count": 23,
   "metadata": {},
   "outputs": [
    {
     "data": {
      "text/plain": [
       "array(['51', '50', 'Undrafted', '25', '30', '18', '31', '48', '21', '160',\n",
       "       '2', '46', '14', '44', '3', '28', '7', '13', '42', '52', '1', '29',\n",
       "       '9', '22', '8', '37', '11', '12', '33', '24', '5', '69', '35',\n",
       "       '27', '38', '16', '6', '39', '32', '4', '19', '10', '23', '36',\n",
       "       '63', '20', '41', '124', '15', '26', '47', '43', '40', '56', '17',\n",
       "       '54', '139', '127', '49', '75', '165', '45', '57', '53', '34',\n",
       "       '79', '58', '87', '120', '55', '66', '82', '60', '59', '78'],\n",
       "      dtype=object)"
      ]
     },
     "execution_count": 23,
     "metadata": {},
     "output_type": "execute_result"
    }
   ],
   "source": [
    "df['draft_number'].unique()"
   ]
  },
  {
   "cell_type": "markdown",
   "metadata": {},
   "source": [
    "### we want those columns to be int so we need to 'fix' it"
   ]
  },
  {
   "cell_type": "code",
   "execution_count": 24,
   "metadata": {},
   "outputs": [
    {
     "name": "stderr",
     "output_type": "stream",
     "text": [
      "C:\\Users\\benho\\Anaconda3\\lib\\site-packages\\ipykernel_launcher.py:11: SettingWithCopyWarning: \n",
      "A value is trying to be set on a copy of a slice from a DataFrame\n",
      "\n",
      "See the caveats in the documentation: http://pandas.pydata.org/pandas-docs/stable/user_guide/indexing.html#returning-a-view-versus-a-copy\n",
      "  # This is added back by InteractiveShellApp.init_path()\n",
      "C:\\Users\\benho\\Anaconda3\\lib\\site-packages\\ipykernel_launcher.py:3: SettingWithCopyWarning: \n",
      "A value is trying to be set on a copy of a slice from a DataFrame\n",
      "\n",
      "See the caveats in the documentation: http://pandas.pydata.org/pandas-docs/stable/user_guide/indexing.html#returning-a-view-versus-a-copy\n",
      "  This is separate from the ipykernel package so we can avoid doing imports until\n",
      "C:\\Users\\benho\\Anaconda3\\lib\\site-packages\\ipykernel_launcher.py:5: SettingWithCopyWarning: \n",
      "A value is trying to be set on a copy of a slice from a DataFrame\n",
      "\n",
      "See the caveats in the documentation: http://pandas.pydata.org/pandas-docs/stable/user_guide/indexing.html#returning-a-view-versus-a-copy\n",
      "  \"\"\"\n",
      "C:\\Users\\benho\\Anaconda3\\lib\\site-packages\\ipykernel_launcher.py:7: SettingWithCopyWarning: \n",
      "A value is trying to be set on a copy of a slice from a DataFrame\n",
      "\n",
      "See the caveats in the documentation: http://pandas.pydata.org/pandas-docs/stable/user_guide/indexing.html#returning-a-view-versus-a-copy\n",
      "  import sys\n",
      "C:\\Users\\benho\\Anaconda3\\lib\\site-packages\\ipykernel_launcher.py:9: SettingWithCopyWarning: \n",
      "A value is trying to be set on a copy of a slice from a DataFrame\n",
      "\n",
      "See the caveats in the documentation: http://pandas.pydata.org/pandas-docs/stable/user_guide/indexing.html#returning-a-view-versus-a-copy\n",
      "  if __name__ == '__main__':\n"
     ]
    }
   ],
   "source": [
    "for x in range(df.shape[0]):\n",
    "    if(df['draft_round'][x] == 'Undrafted'):\n",
    "        df['draft_round'][x] = '0'\n",
    "    if(df['draft_year'][x] == 'Undrafted'):\n",
    "        df['draft_year'][x] = '0'\n",
    "    if(df['draft_number'][x] == 'Undrafted'):\n",
    "        df['draft_number'][x] = '0'\n",
    "    if(df['net_rating'][x] > 0):\n",
    "        df['net_rating'][x] = 1\n",
    "    else:\n",
    "         df['net_rating'][x] = 0"
   ]
  },
  {
   "cell_type": "markdown",
   "metadata": {},
   "source": [
    "### now we will check if we succeed"
   ]
  },
  {
   "cell_type": "code",
   "execution_count": 25,
   "metadata": {},
   "outputs": [
    {
     "name": "stdout",
     "output_type": "stream",
     "text": [
      "['2' '0' '1' '7' '3' '6' '4' '8']\n",
      "['1996' '1992' '0' '1995' '1983' '1986' '1987' '1988' '1985' '1990' '1993'\n",
      " '1991' '1989' '1984' '1994' '1978' '1982' '1981' '1976' '1980' '1979'\n",
      " '1997' '1998' '1999' '2000' '2001' '2002' '2003' '2004' '2005' '2006'\n",
      " '2007' '2008' '2009' '2010' '2011' '1963' '2012' '2013' '2014' '2015'\n",
      " '2016']\n",
      "['51' '50' '0' '25' '30' '18' '31' '48' '21' '160' '2' '46' '14' '44' '3'\n",
      " '28' '7' '13' '42' '52' '1' '29' '9' '22' '8' '37' '11' '12' '33' '24'\n",
      " '5' '69' '35' '27' '38' '16' '6' '39' '32' '4' '19' '10' '23' '36' '63'\n",
      " '20' '41' '124' '15' '26' '47' '43' '40' '56' '17' '54' '139' '127' '49'\n",
      " '75' '165' '45' '57' '53' '34' '79' '58' '87' '120' '55' '66' '82' '60'\n",
      " '59' '78']\n"
     ]
    }
   ],
   "source": [
    "print(df['draft_round'].unique())\n",
    "print(df['draft_year'].unique())\n",
    "print(df['draft_number'].unique())"
   ]
  },
  {
   "cell_type": "code",
   "execution_count": 26,
   "metadata": {},
   "outputs": [
    {
     "data": {
      "text/plain": [
       "0    2\n",
       "1    2\n",
       "2    0\n",
       "3    0\n",
       "4    1\n",
       "Name: draft_round, dtype: object"
      ]
     },
     "execution_count": 26,
     "metadata": {},
     "output_type": "execute_result"
    }
   ],
   "source": [
    "df['draft_round'].head()"
   ]
  },
  {
   "cell_type": "code",
   "execution_count": 27,
   "metadata": {},
   "outputs": [
    {
     "data": {
      "text/plain": [
       "0    1996\n",
       "1    1992\n",
       "2       0\n",
       "3       0\n",
       "4    1996\n",
       "Name: draft_year, dtype: object"
      ]
     },
     "execution_count": 27,
     "metadata": {},
     "output_type": "execute_result"
    }
   ],
   "source": [
    "df['draft_year'].head()"
   ]
  },
  {
   "cell_type": "code",
   "execution_count": 28,
   "metadata": {},
   "outputs": [
    {
     "data": {
      "text/plain": [
       "0    51\n",
       "1    50\n",
       "2     0\n",
       "3     0\n",
       "4    25\n",
       "Name: draft_number, dtype: object"
      ]
     },
     "execution_count": 28,
     "metadata": {},
     "output_type": "execute_result"
    }
   ],
   "source": [
    "df['draft_number'].head()"
   ]
  },
  {
   "cell_type": "markdown",
   "metadata": {},
   "source": [
    "### after we removed the non integers we need to change the column type"
   ]
  },
  {
   "cell_type": "code",
   "execution_count": 29,
   "metadata": {},
   "outputs": [],
   "source": [
    "df['draft_round'] = df['draft_round'].astype(str).astype(int)\n",
    "df['draft_year'] = df['draft_year'].astype(str).astype(int)\n",
    "df['draft_number'] = df['draft_number'].astype(str).astype(int)"
   ]
  },
  {
   "cell_type": "code",
   "execution_count": 30,
   "metadata": {},
   "outputs": [
    {
     "name": "stdout",
     "output_type": "stream",
     "text": [
      "<class 'numpy.int32'>\n",
      "<class 'numpy.int32'>\n",
      "<class 'numpy.int32'>\n"
     ]
    }
   ],
   "source": [
    "print(type(df['draft_round'][1]))\n",
    "print(type(df['draft_year'][2]))\n",
    "print(type(df['draft_number'][3]))"
   ]
  },
  {
   "cell_type": "code",
   "execution_count": 31,
   "metadata": {},
   "outputs": [
    {
     "data": {
      "text/html": [
       "<div>\n",
       "<style scoped>\n",
       "    .dataframe tbody tr th:only-of-type {\n",
       "        vertical-align: middle;\n",
       "    }\n",
       "\n",
       "    .dataframe tbody tr th {\n",
       "        vertical-align: top;\n",
       "    }\n",
       "\n",
       "    .dataframe thead th {\n",
       "        text-align: right;\n",
       "    }\n",
       "</style>\n",
       "<table border=\"1\" class=\"dataframe\">\n",
       "  <thead>\n",
       "    <tr style=\"text-align: right;\">\n",
       "      <th></th>\n",
       "      <th>player_name</th>\n",
       "      <th>team_abbreviation</th>\n",
       "      <th>age</th>\n",
       "      <th>player_height</th>\n",
       "      <th>player_weight</th>\n",
       "      <th>college</th>\n",
       "      <th>country</th>\n",
       "      <th>draft_year</th>\n",
       "      <th>draft_round</th>\n",
       "      <th>draft_number</th>\n",
       "      <th>...</th>\n",
       "      <th>pts</th>\n",
       "      <th>reb</th>\n",
       "      <th>ast</th>\n",
       "      <th>net_rating</th>\n",
       "      <th>oreb_pct</th>\n",
       "      <th>dreb_pct</th>\n",
       "      <th>usg_pct</th>\n",
       "      <th>ts_pct</th>\n",
       "      <th>ast_pct</th>\n",
       "      <th>season</th>\n",
       "    </tr>\n",
       "  </thead>\n",
       "  <tbody>\n",
       "    <tr>\n",
       "      <td>0</td>\n",
       "      <td>Chris Robinson</td>\n",
       "      <td>VAN</td>\n",
       "      <td>23.0</td>\n",
       "      <td>195.58</td>\n",
       "      <td>90.71840</td>\n",
       "      <td>Western Kentucky</td>\n",
       "      <td>USA</td>\n",
       "      <td>1996</td>\n",
       "      <td>2</td>\n",
       "      <td>51</td>\n",
       "      <td>...</td>\n",
       "      <td>4.6</td>\n",
       "      <td>1.7</td>\n",
       "      <td>1.6</td>\n",
       "      <td>0.0</td>\n",
       "      <td>0.039</td>\n",
       "      <td>0.088</td>\n",
       "      <td>0.155</td>\n",
       "      <td>0.486</td>\n",
       "      <td>0.156</td>\n",
       "      <td>1996-97</td>\n",
       "    </tr>\n",
       "    <tr>\n",
       "      <td>1</td>\n",
       "      <td>Matt Fish</td>\n",
       "      <td>MIA</td>\n",
       "      <td>27.0</td>\n",
       "      <td>210.82</td>\n",
       "      <td>106.59412</td>\n",
       "      <td>North Carolina-Wilmington</td>\n",
       "      <td>USA</td>\n",
       "      <td>1992</td>\n",
       "      <td>2</td>\n",
       "      <td>50</td>\n",
       "      <td>...</td>\n",
       "      <td>0.3</td>\n",
       "      <td>0.8</td>\n",
       "      <td>0.0</td>\n",
       "      <td>0.0</td>\n",
       "      <td>0.143</td>\n",
       "      <td>0.267</td>\n",
       "      <td>0.265</td>\n",
       "      <td>0.333</td>\n",
       "      <td>0.000</td>\n",
       "      <td>1996-97</td>\n",
       "    </tr>\n",
       "    <tr>\n",
       "      <td>2</td>\n",
       "      <td>Matt Bullard</td>\n",
       "      <td>HOU</td>\n",
       "      <td>30.0</td>\n",
       "      <td>208.28</td>\n",
       "      <td>106.59412</td>\n",
       "      <td>Iowa</td>\n",
       "      <td>USA</td>\n",
       "      <td>0</td>\n",
       "      <td>0</td>\n",
       "      <td>0</td>\n",
       "      <td>...</td>\n",
       "      <td>4.5</td>\n",
       "      <td>1.6</td>\n",
       "      <td>0.9</td>\n",
       "      <td>1.0</td>\n",
       "      <td>0.016</td>\n",
       "      <td>0.115</td>\n",
       "      <td>0.151</td>\n",
       "      <td>0.535</td>\n",
       "      <td>0.099</td>\n",
       "      <td>1996-97</td>\n",
       "    </tr>\n",
       "    <tr>\n",
       "      <td>3</td>\n",
       "      <td>Marty Conlon</td>\n",
       "      <td>BOS</td>\n",
       "      <td>29.0</td>\n",
       "      <td>210.82</td>\n",
       "      <td>111.13004</td>\n",
       "      <td>Providence</td>\n",
       "      <td>USA</td>\n",
       "      <td>0</td>\n",
       "      <td>0</td>\n",
       "      <td>0</td>\n",
       "      <td>...</td>\n",
       "      <td>7.8</td>\n",
       "      <td>4.4</td>\n",
       "      <td>1.4</td>\n",
       "      <td>0.0</td>\n",
       "      <td>0.083</td>\n",
       "      <td>0.152</td>\n",
       "      <td>0.167</td>\n",
       "      <td>0.542</td>\n",
       "      <td>0.101</td>\n",
       "      <td>1996-97</td>\n",
       "    </tr>\n",
       "    <tr>\n",
       "      <td>4</td>\n",
       "      <td>Martin Muursepp</td>\n",
       "      <td>DAL</td>\n",
       "      <td>22.0</td>\n",
       "      <td>205.74</td>\n",
       "      <td>106.59412</td>\n",
       "      <td>None</td>\n",
       "      <td>USA</td>\n",
       "      <td>1996</td>\n",
       "      <td>1</td>\n",
       "      <td>25</td>\n",
       "      <td>...</td>\n",
       "      <td>3.7</td>\n",
       "      <td>1.6</td>\n",
       "      <td>0.5</td>\n",
       "      <td>0.0</td>\n",
       "      <td>0.109</td>\n",
       "      <td>0.118</td>\n",
       "      <td>0.233</td>\n",
       "      <td>0.482</td>\n",
       "      <td>0.114</td>\n",
       "      <td>1996-97</td>\n",
       "    </tr>\n",
       "  </tbody>\n",
       "</table>\n",
       "<p>5 rows × 21 columns</p>\n",
       "</div>"
      ],
      "text/plain": [
       "       player_name team_abbreviation   age  player_height  player_weight  \\\n",
       "0   Chris Robinson               VAN  23.0         195.58       90.71840   \n",
       "1        Matt Fish               MIA  27.0         210.82      106.59412   \n",
       "2     Matt Bullard               HOU  30.0         208.28      106.59412   \n",
       "3     Marty Conlon               BOS  29.0         210.82      111.13004   \n",
       "4  Martin Muursepp               DAL  22.0         205.74      106.59412   \n",
       "\n",
       "                     college country  draft_year  draft_round  draft_number  \\\n",
       "0           Western Kentucky     USA        1996            2            51   \n",
       "1  North Carolina-Wilmington     USA        1992            2            50   \n",
       "2                       Iowa     USA           0            0             0   \n",
       "3                 Providence     USA           0            0             0   \n",
       "4                       None     USA        1996            1            25   \n",
       "\n",
       "   ...  pts  reb  ast  net_rating  oreb_pct  dreb_pct  usg_pct  ts_pct  \\\n",
       "0  ...  4.6  1.7  1.6         0.0     0.039     0.088    0.155   0.486   \n",
       "1  ...  0.3  0.8  0.0         0.0     0.143     0.267    0.265   0.333   \n",
       "2  ...  4.5  1.6  0.9         1.0     0.016     0.115    0.151   0.535   \n",
       "3  ...  7.8  4.4  1.4         0.0     0.083     0.152    0.167   0.542   \n",
       "4  ...  3.7  1.6  0.5         0.0     0.109     0.118    0.233   0.482   \n",
       "\n",
       "   ast_pct   season  \n",
       "0    0.156  1996-97  \n",
       "1    0.000  1996-97  \n",
       "2    0.099  1996-97  \n",
       "3    0.101  1996-97  \n",
       "4    0.114  1996-97  \n",
       "\n",
       "[5 rows x 21 columns]"
      ]
     },
     "execution_count": 31,
     "metadata": {},
     "output_type": "execute_result"
    }
   ],
   "source": [
    "df.head()"
   ]
  },
  {
   "cell_type": "code",
   "execution_count": 32,
   "metadata": {},
   "outputs": [
    {
     "data": {
      "image/png": "[encoded data removed]",
      "text/plain": [
       "<Figure size 432x288 with 1 Axes>"
      ]
     },
     "metadata": {
      "needs_background": "light"
     },
     "output_type": "display_data"
    }
   ],
   "source": [
    "#now we want to see how the age affect the net rating of the player and the diffrences between net rating 1 and 0 \n",
    "sns.violinplot(x=\"net_rating\", y=\"age\", data=df)\n",
    "plt.savefig(\"nbaPic/graph11.png\", bbox_inches='tight')"
   ]
  },
  {
   "cell_type": "markdown",
   "metadata": {},
   "source": [
    "# now we will prepare our data to the model  "
   ]
  },
  {
   "cell_type": "markdown",
   "metadata": {},
   "source": [
    "## first we will copy the data so we wont 'harm' him and start with the dummies valuse"
   ]
  },
  {
   "cell_type": "code",
   "execution_count": 33,
   "metadata": {},
   "outputs": [
    {
     "data": {
      "text/html": [
       "<div>\n",
       "<style scoped>\n",
       "    .dataframe tbody tr th:only-of-type {\n",
       "        vertical-align: middle;\n",
       "    }\n",
       "\n",
       "    .dataframe tbody tr th {\n",
       "        vertical-align: top;\n",
       "    }\n",
       "\n",
       "    .dataframe thead th {\n",
       "        text-align: right;\n",
       "    }\n",
       "</style>\n",
       "<table border=\"1\" class=\"dataframe\">\n",
       "  <thead>\n",
       "    <tr style=\"text-align: right;\">\n",
       "      <th></th>\n",
       "      <th>player_name</th>\n",
       "      <th>age</th>\n",
       "      <th>player_height</th>\n",
       "      <th>player_weight</th>\n",
       "      <th>college</th>\n",
       "      <th>country</th>\n",
       "      <th>draft_year</th>\n",
       "      <th>draft_round</th>\n",
       "      <th>draft_number</th>\n",
       "      <th>gp</th>\n",
       "      <th>...</th>\n",
       "      <th>PHI</th>\n",
       "      <th>PHX</th>\n",
       "      <th>POR</th>\n",
       "      <th>SAC</th>\n",
       "      <th>SAS</th>\n",
       "      <th>SEA</th>\n",
       "      <th>TOR</th>\n",
       "      <th>UTA</th>\n",
       "      <th>VAN</th>\n",
       "      <th>WAS</th>\n",
       "    </tr>\n",
       "  </thead>\n",
       "  <tbody>\n",
       "    <tr>\n",
       "      <td>0</td>\n",
       "      <td>Chris Robinson</td>\n",
       "      <td>23.0</td>\n",
       "      <td>195.58</td>\n",
       "      <td>90.71840</td>\n",
       "      <td>Western Kentucky</td>\n",
       "      <td>USA</td>\n",
       "      <td>1996</td>\n",
       "      <td>2</td>\n",
       "      <td>51</td>\n",
       "      <td>41</td>\n",
       "      <td>...</td>\n",
       "      <td>0</td>\n",
       "      <td>0</td>\n",
       "      <td>0</td>\n",
       "      <td>0</td>\n",
       "      <td>0</td>\n",
       "      <td>0</td>\n",
       "      <td>0</td>\n",
       "      <td>0</td>\n",
       "      <td>1</td>\n",
       "      <td>0</td>\n",
       "    </tr>\n",
       "    <tr>\n",
       "      <td>1</td>\n",
       "      <td>Matt Fish</td>\n",
       "      <td>27.0</td>\n",
       "      <td>210.82</td>\n",
       "      <td>106.59412</td>\n",
       "      <td>North Carolina-Wilmington</td>\n",
       "      <td>USA</td>\n",
       "      <td>1992</td>\n",
       "      <td>2</td>\n",
       "      <td>50</td>\n",
       "      <td>6</td>\n",
       "      <td>...</td>\n",
       "      <td>0</td>\n",
       "      <td>0</td>\n",
       "      <td>0</td>\n",
       "      <td>0</td>\n",
       "      <td>0</td>\n",
       "      <td>0</td>\n",
       "      <td>0</td>\n",
       "      <td>0</td>\n",
       "      <td>0</td>\n",
       "      <td>0</td>\n",
       "    </tr>\n",
       "    <tr>\n",
       "      <td>2</td>\n",
       "      <td>Matt Bullard</td>\n",
       "      <td>30.0</td>\n",
       "      <td>208.28</td>\n",
       "      <td>106.59412</td>\n",
       "      <td>Iowa</td>\n",
       "      <td>USA</td>\n",
       "      <td>0</td>\n",
       "      <td>0</td>\n",
       "      <td>0</td>\n",
       "      <td>71</td>\n",
       "      <td>...</td>\n",
       "      <td>0</td>\n",
       "      <td>0</td>\n",
       "      <td>0</td>\n",
       "      <td>0</td>\n",
       "      <td>0</td>\n",
       "      <td>0</td>\n",
       "      <td>0</td>\n",
       "      <td>0</td>\n",
       "      <td>0</td>\n",
       "      <td>0</td>\n",
       "    </tr>\n",
       "    <tr>\n",
       "      <td>3</td>\n",
       "      <td>Marty Conlon</td>\n",
       "      <td>29.0</td>\n",
       "      <td>210.82</td>\n",
       "      <td>111.13004</td>\n",
       "      <td>Providence</td>\n",
       "      <td>USA</td>\n",
       "      <td>0</td>\n",
       "      <td>0</td>\n",
       "      <td>0</td>\n",
       "      <td>74</td>\n",
       "      <td>...</td>\n",
       "      <td>0</td>\n",
       "      <td>0</td>\n",
       "      <td>0</td>\n",
       "      <td>0</td>\n",
       "      <td>0</td>\n",
       "      <td>0</td>\n",
       "      <td>0</td>\n",
       "      <td>0</td>\n",
       "      <td>0</td>\n",
       "      <td>0</td>\n",
       "    </tr>\n",
       "    <tr>\n",
       "      <td>4</td>\n",
       "      <td>Martin Muursepp</td>\n",
       "      <td>22.0</td>\n",
       "      <td>205.74</td>\n",
       "      <td>106.59412</td>\n",
       "      <td>None</td>\n",
       "      <td>USA</td>\n",
       "      <td>1996</td>\n",
       "      <td>1</td>\n",
       "      <td>25</td>\n",
       "      <td>42</td>\n",
       "      <td>...</td>\n",
       "      <td>0</td>\n",
       "      <td>0</td>\n",
       "      <td>0</td>\n",
       "      <td>0</td>\n",
       "      <td>0</td>\n",
       "      <td>0</td>\n",
       "      <td>0</td>\n",
       "      <td>0</td>\n",
       "      <td>0</td>\n",
       "      <td>0</td>\n",
       "    </tr>\n",
       "  </tbody>\n",
       "</table>\n",
       "<p>5 rows × 56 columns</p>\n",
       "</div>"
      ],
      "text/plain": [
       "       player_name   age  player_height  player_weight  \\\n",
       "0   Chris Robinson  23.0         195.58       90.71840   \n",
       "1        Matt Fish  27.0         210.82      106.59412   \n",
       "2     Matt Bullard  30.0         208.28      106.59412   \n",
       "3     Marty Conlon  29.0         210.82      111.13004   \n",
       "4  Martin Muursepp  22.0         205.74      106.59412   \n",
       "\n",
       "                     college country  draft_year  draft_round  draft_number  \\\n",
       "0           Western Kentucky     USA        1996            2            51   \n",
       "1  North Carolina-Wilmington     USA        1992            2            50   \n",
       "2                       Iowa     USA           0            0             0   \n",
       "3                 Providence     USA           0            0             0   \n",
       "4                       None     USA        1996            1            25   \n",
       "\n",
       "   gp  ...  PHI  PHX  POR  SAC  SAS  SEA  TOR  UTA  VAN WAS  \n",
       "0  41  ...    0    0    0    0    0    0    0    0    1   0  \n",
       "1   6  ...    0    0    0    0    0    0    0    0    0   0  \n",
       "2  71  ...    0    0    0    0    0    0    0    0    0   0  \n",
       "3  74  ...    0    0    0    0    0    0    0    0    0   0  \n",
       "4  42  ...    0    0    0    0    0    0    0    0    0   0  \n",
       "\n",
       "[5 rows x 56 columns]"
      ]
     },
     "execution_count": 33,
     "metadata": {},
     "output_type": "execute_result"
    }
   ],
   "source": [
    "df1 = df.copy()\n",
    "\n",
    "#dummies to the team abbreviation\n",
    "temp = pd.get_dummies(df1['team_abbreviation'])\n",
    "df1 = df1.join(temp)\n",
    "df1 = df1.drop('team_abbreviation', axis = 1)\n",
    "\n",
    "\n",
    "df1.head()"
   ]
  },
  {
   "cell_type": "code",
   "execution_count": 34,
   "metadata": {},
   "outputs": [
    {
     "name": "stdout",
     "output_type": "stream",
     "text": [
      "<class 'pandas.core.frame.DataFrame'>\n",
      "RangeIndex: 9561 entries, 0 to 9560\n",
      "Data columns (total 56 columns):\n",
      "player_name      9561 non-null object\n",
      "age              9561 non-null float64\n",
      "player_height    9561 non-null float64\n",
      "player_weight    9561 non-null float64\n",
      "college          9561 non-null object\n",
      "country          9561 non-null object\n",
      "draft_year       9561 non-null int32\n",
      "draft_round      9561 non-null int32\n",
      "draft_number     9561 non-null int32\n",
      "gp               9561 non-null int64\n",
      "pts              9561 non-null float64\n",
      "reb              9561 non-null float64\n",
      "ast              9561 non-null float64\n",
      "net_rating       9561 non-null float64\n",
      "oreb_pct         9561 non-null float64\n",
      "dreb_pct         9561 non-null float64\n",
      "usg_pct          9561 non-null float64\n",
      "ts_pct           9561 non-null float64\n",
      "ast_pct          9561 non-null float64\n",
      "season           9561 non-null object\n",
      "ATL              9561 non-null uint8\n",
      "BKN              9561 non-null uint8\n",
      "BOS              9561 non-null uint8\n",
      "CHA              9561 non-null uint8\n",
      "CHH              9561 non-null uint8\n",
      "CHI              9561 non-null uint8\n",
      "CLE              9561 non-null uint8\n",
      "DAL              9561 non-null uint8\n",
      "DEN              9561 non-null uint8\n",
      "DET              9561 non-null uint8\n",
      "GSW              9561 non-null uint8\n",
      "HOU              9561 non-null uint8\n",
      "IND              9561 non-null uint8\n",
      "LAC              9561 non-null uint8\n",
      "LAL              9561 non-null uint8\n",
      "MEM              9561 non-null uint8\n",
      "MIA              9561 non-null uint8\n",
      "MIL              9561 non-null uint8\n",
      "MIN              9561 non-null uint8\n",
      "NJN              9561 non-null uint8\n",
      "NOH              9561 non-null uint8\n",
      "NOK              9561 non-null uint8\n",
      "NOP              9561 non-null uint8\n",
      "NYK              9561 non-null uint8\n",
      "OKC              9561 non-null uint8\n",
      "ORL              9561 non-null uint8\n",
      "PHI              9561 non-null uint8\n",
      "PHX              9561 non-null uint8\n",
      "POR              9561 non-null uint8\n",
      "SAC              9561 non-null uint8\n",
      "SAS              9561 non-null uint8\n",
      "SEA              9561 non-null uint8\n",
      "TOR              9561 non-null uint8\n",
      "UTA              9561 non-null uint8\n",
      "VAN              9561 non-null uint8\n",
      "WAS              9561 non-null uint8\n",
      "dtypes: float64(12), int32(3), int64(1), object(4), uint8(36)\n",
      "memory usage: 1.7+ MB\n"
     ]
    }
   ],
   "source": [
    "df1.info()"
   ]
  },
  {
   "cell_type": "code",
   "execution_count": 35,
   "metadata": {},
   "outputs": [
    {
     "data": {
      "text/html": [
       "<div>\n",
       "<style scoped>\n",
       "    .dataframe tbody tr th:only-of-type {\n",
       "        vertical-align: middle;\n",
       "    }\n",
       "\n",
       "    .dataframe tbody tr th {\n",
       "        vertical-align: top;\n",
       "    }\n",
       "\n",
       "    .dataframe thead th {\n",
       "        text-align: right;\n",
       "    }\n",
       "</style>\n",
       "<table border=\"1\" class=\"dataframe\">\n",
       "  <thead>\n",
       "    <tr style=\"text-align: right;\">\n",
       "      <th></th>\n",
       "      <th>player_name</th>\n",
       "      <th>age</th>\n",
       "      <th>player_height</th>\n",
       "      <th>player_weight</th>\n",
       "      <th>college</th>\n",
       "      <th>draft_year</th>\n",
       "      <th>draft_round</th>\n",
       "      <th>draft_number</th>\n",
       "      <th>gp</th>\n",
       "      <th>pts</th>\n",
       "      <th>...</th>\n",
       "      <th>Turkey</th>\n",
       "      <th>U.S. Virgin Islands</th>\n",
       "      <th>US Virgin Islands</th>\n",
       "      <th>USA</th>\n",
       "      <th>USSR</th>\n",
       "      <th>Ukraine</th>\n",
       "      <th>United Kingdom</th>\n",
       "      <th>Uruguay</th>\n",
       "      <th>Venezuela</th>\n",
       "      <th>Yugoslavia</th>\n",
       "    </tr>\n",
       "  </thead>\n",
       "  <tbody>\n",
       "    <tr>\n",
       "      <td>0</td>\n",
       "      <td>Chris Robinson</td>\n",
       "      <td>23.0</td>\n",
       "      <td>195.58</td>\n",
       "      <td>90.71840</td>\n",
       "      <td>Western Kentucky</td>\n",
       "      <td>1996</td>\n",
       "      <td>2</td>\n",
       "      <td>51</td>\n",
       "      <td>41</td>\n",
       "      <td>4.6</td>\n",
       "      <td>...</td>\n",
       "      <td>0</td>\n",
       "      <td>0</td>\n",
       "      <td>0</td>\n",
       "      <td>1</td>\n",
       "      <td>0</td>\n",
       "      <td>0</td>\n",
       "      <td>0</td>\n",
       "      <td>0</td>\n",
       "      <td>0</td>\n",
       "      <td>0</td>\n",
       "    </tr>\n",
       "    <tr>\n",
       "      <td>1</td>\n",
       "      <td>Matt Fish</td>\n",
       "      <td>27.0</td>\n",
       "      <td>210.82</td>\n",
       "      <td>106.59412</td>\n",
       "      <td>North Carolina-Wilmington</td>\n",
       "      <td>1992</td>\n",
       "      <td>2</td>\n",
       "      <td>50</td>\n",
       "      <td>6</td>\n",
       "      <td>0.3</td>\n",
       "      <td>...</td>\n",
       "      <td>0</td>\n",
       "      <td>0</td>\n",
       "      <td>0</td>\n",
       "      <td>1</td>\n",
       "      <td>0</td>\n",
       "      <td>0</td>\n",
       "      <td>0</td>\n",
       "      <td>0</td>\n",
       "      <td>0</td>\n",
       "      <td>0</td>\n",
       "    </tr>\n",
       "    <tr>\n",
       "      <td>2</td>\n",
       "      <td>Matt Bullard</td>\n",
       "      <td>30.0</td>\n",
       "      <td>208.28</td>\n",
       "      <td>106.59412</td>\n",
       "      <td>Iowa</td>\n",
       "      <td>0</td>\n",
       "      <td>0</td>\n",
       "      <td>0</td>\n",
       "      <td>71</td>\n",
       "      <td>4.5</td>\n",
       "      <td>...</td>\n",
       "      <td>0</td>\n",
       "      <td>0</td>\n",
       "      <td>0</td>\n",
       "      <td>1</td>\n",
       "      <td>0</td>\n",
       "      <td>0</td>\n",
       "      <td>0</td>\n",
       "      <td>0</td>\n",
       "      <td>0</td>\n",
       "      <td>0</td>\n",
       "    </tr>\n",
       "    <tr>\n",
       "      <td>3</td>\n",
       "      <td>Marty Conlon</td>\n",
       "      <td>29.0</td>\n",
       "      <td>210.82</td>\n",
       "      <td>111.13004</td>\n",
       "      <td>Providence</td>\n",
       "      <td>0</td>\n",
       "      <td>0</td>\n",
       "      <td>0</td>\n",
       "      <td>74</td>\n",
       "      <td>7.8</td>\n",
       "      <td>...</td>\n",
       "      <td>0</td>\n",
       "      <td>0</td>\n",
       "      <td>0</td>\n",
       "      <td>1</td>\n",
       "      <td>0</td>\n",
       "      <td>0</td>\n",
       "      <td>0</td>\n",
       "      <td>0</td>\n",
       "      <td>0</td>\n",
       "      <td>0</td>\n",
       "    </tr>\n",
       "    <tr>\n",
       "      <td>4</td>\n",
       "      <td>Martin Muursepp</td>\n",
       "      <td>22.0</td>\n",
       "      <td>205.74</td>\n",
       "      <td>106.59412</td>\n",
       "      <td>None</td>\n",
       "      <td>1996</td>\n",
       "      <td>1</td>\n",
       "      <td>25</td>\n",
       "      <td>42</td>\n",
       "      <td>3.7</td>\n",
       "      <td>...</td>\n",
       "      <td>0</td>\n",
       "      <td>0</td>\n",
       "      <td>0</td>\n",
       "      <td>1</td>\n",
       "      <td>0</td>\n",
       "      <td>0</td>\n",
       "      <td>0</td>\n",
       "      <td>0</td>\n",
       "      <td>0</td>\n",
       "      <td>0</td>\n",
       "    </tr>\n",
       "  </tbody>\n",
       "</table>\n",
       "<p>5 rows × 124 columns</p>\n",
       "</div>"
      ],
      "text/plain": [
       "       player_name   age  player_height  player_weight  \\\n",
       "0   Chris Robinson  23.0         195.58       90.71840   \n",
       "1        Matt Fish  27.0         210.82      106.59412   \n",
       "2     Matt Bullard  30.0         208.28      106.59412   \n",
       "3     Marty Conlon  29.0         210.82      111.13004   \n",
       "4  Martin Muursepp  22.0         205.74      106.59412   \n",
       "\n",
       "                     college  draft_year  draft_round  draft_number  gp  pts  \\\n",
       "0           Western Kentucky        1996            2            51  41  4.6   \n",
       "1  North Carolina-Wilmington        1992            2            50   6  0.3   \n",
       "2                       Iowa           0            0             0  71  4.5   \n",
       "3                 Providence           0            0             0  74  7.8   \n",
       "4                       None        1996            1            25  42  3.7   \n",
       "\n",
       "   ...  Turkey  U.S. Virgin Islands  US Virgin Islands  USA  USSR  Ukraine  \\\n",
       "0  ...       0                    0                  0    1     0        0   \n",
       "1  ...       0                    0                  0    1     0        0   \n",
       "2  ...       0                    0                  0    1     0        0   \n",
       "3  ...       0                    0                  0    1     0        0   \n",
       "4  ...       0                    0                  0    1     0        0   \n",
       "\n",
       "   United Kingdom  Uruguay Venezuela  Yugoslavia  \n",
       "0               0        0         0           0  \n",
       "1               0        0         0           0  \n",
       "2               0        0         0           0  \n",
       "3               0        0         0           0  \n",
       "4               0        0         0           0  \n",
       "\n",
       "[5 rows x 124 columns]"
      ]
     },
     "execution_count": 35,
     "metadata": {},
     "output_type": "execute_result"
    }
   ],
   "source": [
    "#now lets do a dummies to the country as well\n",
    "temp = pd.get_dummies(df1['country'])\n",
    "df1 = df1.join(temp)\n",
    "df1 = df1.drop('country', axis = 1)\n",
    "\n",
    "df1.head()"
   ]
  },
  {
   "cell_type": "markdown",
   "metadata": {},
   "source": [
    "### now we will remove the unnecessary column for our model"
   ]
  },
  {
   "cell_type": "code",
   "execution_count": 36,
   "metadata": {},
   "outputs": [],
   "source": [
    "df1 = df1.drop(columns=['player_name','college', 'gp','ast_pct','season'])"
   ]
  },
  {
   "cell_type": "markdown",
   "metadata": {},
   "source": [
    "## now the scaling part. we want that each column will have the same scale so for each column we will divide it by its max value  "
   ]
  },
  {
   "cell_type": "code",
   "execution_count": 37,
   "metadata": {},
   "outputs": [
    {
     "data": {
      "text/html": [
       "<div>\n",
       "<style scoped>\n",
       "    .dataframe tbody tr th:only-of-type {\n",
       "        vertical-align: middle;\n",
       "    }\n",
       "\n",
       "    .dataframe tbody tr th {\n",
       "        vertical-align: top;\n",
       "    }\n",
       "\n",
       "    .dataframe thead th {\n",
       "        text-align: right;\n",
       "    }\n",
       "</style>\n",
       "<table border=\"1\" class=\"dataframe\">\n",
       "  <thead>\n",
       "    <tr style=\"text-align: right;\">\n",
       "      <th></th>\n",
       "      <th>age</th>\n",
       "      <th>player_height</th>\n",
       "      <th>player_weight</th>\n",
       "      <th>draft_year</th>\n",
       "      <th>draft_round</th>\n",
       "      <th>draft_number</th>\n",
       "      <th>pts</th>\n",
       "      <th>reb</th>\n",
       "      <th>ast</th>\n",
       "      <th>net_rating</th>\n",
       "      <th>...</th>\n",
       "      <th>Turkey</th>\n",
       "      <th>U.S. Virgin Islands</th>\n",
       "      <th>US Virgin Islands</th>\n",
       "      <th>USA</th>\n",
       "      <th>USSR</th>\n",
       "      <th>Ukraine</th>\n",
       "      <th>United Kingdom</th>\n",
       "      <th>Uruguay</th>\n",
       "      <th>Venezuela</th>\n",
       "      <th>Yugoslavia</th>\n",
       "    </tr>\n",
       "  </thead>\n",
       "  <tbody>\n",
       "    <tr>\n",
       "      <td>0</td>\n",
       "      <td>0.522727</td>\n",
       "      <td>0.846154</td>\n",
       "      <td>0.555556</td>\n",
       "      <td>0.990079</td>\n",
       "      <td>0.250</td>\n",
       "      <td>0.309091</td>\n",
       "      <td>0.129944</td>\n",
       "      <td>0.104294</td>\n",
       "      <td>0.136752</td>\n",
       "      <td>0.0</td>\n",
       "      <td>...</td>\n",
       "      <td>0.0</td>\n",
       "      <td>0.0</td>\n",
       "      <td>0.0</td>\n",
       "      <td>1.0</td>\n",
       "      <td>0.0</td>\n",
       "      <td>0.0</td>\n",
       "      <td>0.0</td>\n",
       "      <td>0.0</td>\n",
       "      <td>0.0</td>\n",
       "      <td>0.0</td>\n",
       "    </tr>\n",
       "    <tr>\n",
       "      <td>1</td>\n",
       "      <td>0.613636</td>\n",
       "      <td>0.912088</td>\n",
       "      <td>0.652778</td>\n",
       "      <td>0.988095</td>\n",
       "      <td>0.250</td>\n",
       "      <td>0.303030</td>\n",
       "      <td>0.008475</td>\n",
       "      <td>0.049080</td>\n",
       "      <td>0.000000</td>\n",
       "      <td>0.0</td>\n",
       "      <td>...</td>\n",
       "      <td>0.0</td>\n",
       "      <td>0.0</td>\n",
       "      <td>0.0</td>\n",
       "      <td>1.0</td>\n",
       "      <td>0.0</td>\n",
       "      <td>0.0</td>\n",
       "      <td>0.0</td>\n",
       "      <td>0.0</td>\n",
       "      <td>0.0</td>\n",
       "      <td>0.0</td>\n",
       "    </tr>\n",
       "    <tr>\n",
       "      <td>2</td>\n",
       "      <td>0.681818</td>\n",
       "      <td>0.901099</td>\n",
       "      <td>0.652778</td>\n",
       "      <td>0.000000</td>\n",
       "      <td>0.000</td>\n",
       "      <td>0.000000</td>\n",
       "      <td>0.127119</td>\n",
       "      <td>0.098160</td>\n",
       "      <td>0.076923</td>\n",
       "      <td>1.0</td>\n",
       "      <td>...</td>\n",
       "      <td>0.0</td>\n",
       "      <td>0.0</td>\n",
       "      <td>0.0</td>\n",
       "      <td>1.0</td>\n",
       "      <td>0.0</td>\n",
       "      <td>0.0</td>\n",
       "      <td>0.0</td>\n",
       "      <td>0.0</td>\n",
       "      <td>0.0</td>\n",
       "      <td>0.0</td>\n",
       "    </tr>\n",
       "    <tr>\n",
       "      <td>3</td>\n",
       "      <td>0.659091</td>\n",
       "      <td>0.912088</td>\n",
       "      <td>0.680556</td>\n",
       "      <td>0.000000</td>\n",
       "      <td>0.000</td>\n",
       "      <td>0.000000</td>\n",
       "      <td>0.220339</td>\n",
       "      <td>0.269939</td>\n",
       "      <td>0.119658</td>\n",
       "      <td>0.0</td>\n",
       "      <td>...</td>\n",
       "      <td>0.0</td>\n",
       "      <td>0.0</td>\n",
       "      <td>0.0</td>\n",
       "      <td>1.0</td>\n",
       "      <td>0.0</td>\n",
       "      <td>0.0</td>\n",
       "      <td>0.0</td>\n",
       "      <td>0.0</td>\n",
       "      <td>0.0</td>\n",
       "      <td>0.0</td>\n",
       "    </tr>\n",
       "    <tr>\n",
       "      <td>4</td>\n",
       "      <td>0.500000</td>\n",
       "      <td>0.890110</td>\n",
       "      <td>0.652778</td>\n",
       "      <td>0.990079</td>\n",
       "      <td>0.125</td>\n",
       "      <td>0.151515</td>\n",
       "      <td>0.104520</td>\n",
       "      <td>0.098160</td>\n",
       "      <td>0.042735</td>\n",
       "      <td>0.0</td>\n",
       "      <td>...</td>\n",
       "      <td>0.0</td>\n",
       "      <td>0.0</td>\n",
       "      <td>0.0</td>\n",
       "      <td>1.0</td>\n",
       "      <td>0.0</td>\n",
       "      <td>0.0</td>\n",
       "      <td>0.0</td>\n",
       "      <td>0.0</td>\n",
       "      <td>0.0</td>\n",
       "      <td>0.0</td>\n",
       "    </tr>\n",
       "  </tbody>\n",
       "</table>\n",
       "<p>5 rows × 119 columns</p>\n",
       "</div>"
      ],
      "text/plain": [
       "        age  player_height  player_weight  draft_year  draft_round  \\\n",
       "0  0.522727       0.846154       0.555556    0.990079        0.250   \n",
       "1  0.613636       0.912088       0.652778    0.988095        0.250   \n",
       "2  0.681818       0.901099       0.652778    0.000000        0.000   \n",
       "3  0.659091       0.912088       0.680556    0.000000        0.000   \n",
       "4  0.500000       0.890110       0.652778    0.990079        0.125   \n",
       "\n",
       "   draft_number       pts       reb       ast  net_rating  ...  Turkey  \\\n",
       "0      0.309091  0.129944  0.104294  0.136752         0.0  ...     0.0   \n",
       "1      0.303030  0.008475  0.049080  0.000000         0.0  ...     0.0   \n",
       "2      0.000000  0.127119  0.098160  0.076923         1.0  ...     0.0   \n",
       "3      0.000000  0.220339  0.269939  0.119658         0.0  ...     0.0   \n",
       "4      0.151515  0.104520  0.098160  0.042735         0.0  ...     0.0   \n",
       "\n",
       "   U.S. Virgin Islands  US Virgin Islands  USA  USSR  Ukraine  United Kingdom  \\\n",
       "0                  0.0                0.0  1.0   0.0      0.0             0.0   \n",
       "1                  0.0                0.0  1.0   0.0      0.0             0.0   \n",
       "2                  0.0                0.0  1.0   0.0      0.0             0.0   \n",
       "3                  0.0                0.0  1.0   0.0      0.0             0.0   \n",
       "4                  0.0                0.0  1.0   0.0      0.0             0.0   \n",
       "\n",
       "   Uruguay  Venezuela  Yugoslavia  \n",
       "0      0.0        0.0         0.0  \n",
       "1      0.0        0.0         0.0  \n",
       "2      0.0        0.0         0.0  \n",
       "3      0.0        0.0         0.0  \n",
       "4      0.0        0.0         0.0  \n",
       "\n",
       "[5 rows x 119 columns]"
      ]
     },
     "execution_count": 37,
     "metadata": {},
     "output_type": "execute_result"
    }
   ],
   "source": [
    "for col in df1:    #for each column divide it by its max\n",
    "    df1[col] = df1[col]/df1[col].max()\n",
    "df1.head()\n"
   ]
  },
  {
   "cell_type": "markdown",
   "metadata": {},
   "source": [
    "# after we prepared our data lets run models on it and try to predict the net rating"
   ]
  },
  {
   "cell_type": "markdown",
   "metadata": {},
   "source": [
    "## first spilt the data to train and test "
   ]
  },
  {
   "cell_type": "code",
   "execution_count": 38,
   "metadata": {},
   "outputs": [],
   "source": [
    "from sklearn.model_selection import train_test_split"
   ]
  },
  {
   "cell_type": "code",
   "execution_count": 39,
   "metadata": {},
   "outputs": [],
   "source": [
    "X = df1.drop('net_rating', axis=1)\n",
    "y = df1['net_rating']\n",
    "X_train, X_test, y_train, y_test = train_test_split(X, y, test_size=0.3, random_state=0)"
   ]
  },
  {
   "cell_type": "markdown",
   "metadata": {},
   "source": [
    "## now import the matrix, classification report and confusion matrix to see how good our model is "
   ]
  },
  {
   "cell_type": "code",
   "execution_count": 40,
   "metadata": {},
   "outputs": [],
   "source": [
    "from sklearn import metrics\n",
    "from sklearn.metrics import classification_report,confusion_matrix"
   ]
  },
  {
   "cell_type": "markdown",
   "metadata": {},
   "source": [
    "## now import the models and run them"
   ]
  },
  {
   "cell_type": "markdown",
   "metadata": {},
   "source": [
    "# random forest"
   ]
  },
  {
   "cell_type": "code",
   "execution_count": 41,
   "metadata": {},
   "outputs": [],
   "source": [
    "from sklearn.ensemble import RandomForestClassifier"
   ]
  },
  {
   "cell_type": "code",
   "execution_count": 42,
   "metadata": {},
   "outputs": [
    {
     "name": "stderr",
     "output_type": "stream",
     "text": [
      "C:\\Users\\benho\\Anaconda3\\lib\\site-packages\\sklearn\\ensemble\\forest.py:245: FutureWarning: The default value of n_estimators will change from 10 in version 0.20 to 100 in 0.22.\n",
      "  \"10 in version 0.20 to 100 in 0.22.\", FutureWarning)\n"
     ]
    }
   ],
   "source": [
    "clf = RandomForestClassifier(max_depth=20, random_state=0)\n",
    "clf.fit(X_train, y_train)\n",
    "predictions = clf.predict(X_test)"
   ]
  },
  {
   "cell_type": "code",
   "execution_count": 43,
   "metadata": {},
   "outputs": [
    {
     "name": "stdout",
     "output_type": "stream",
     "text": [
      "[[1348  323]\n",
      " [ 591  607]]\n",
      "              precision    recall  f1-score   support\n",
      "\n",
      "         0.0       0.70      0.81      0.75      1671\n",
      "         1.0       0.65      0.51      0.57      1198\n",
      "\n",
      "    accuracy                           0.68      2869\n",
      "   macro avg       0.67      0.66      0.66      2869\n",
      "weighted avg       0.68      0.68      0.67      2869\n",
      "\n",
      "0.6814220982920879\n"
     ]
    }
   ],
   "source": [
    "print(confusion_matrix(y_test, predictions))\n",
    "print(classification_report(y_test,predictions))\n",
    "print(metrics.accuracy_score(y_test, predictions))"
   ]
  },
  {
   "cell_type": "markdown",
   "metadata": {},
   "source": [
    "# knn"
   ]
  },
  {
   "cell_type": "code",
   "execution_count": 44,
   "metadata": {},
   "outputs": [],
   "source": [
    "from sklearn.neighbors import KNeighborsClassifier"
   ]
  },
  {
   "cell_type": "code",
   "execution_count": 45,
   "metadata": {},
   "outputs": [],
   "source": [
    "#now lets find the optimum K \n",
    "err_rate = []\n",
    "for i in range(1,30):\n",
    "    k = KNeighborsClassifier(n_neighbors=i)\n",
    "    k.fit(X_train, y_train)\n",
    "    pred_i=k.predict(X_test)\n",
    "\n",
    "    err_rate.append(np.mean(pred_i !=y_test))"
   ]
  },
  {
   "cell_type": "code",
   "execution_count": 46,
   "metadata": {},
   "outputs": [
    {
     "data": {
      "text/plain": [
       "2"
      ]
     },
     "execution_count": 46,
     "metadata": {},
     "output_type": "execute_result"
    }
   ],
   "source": [
    "index = err_rate.index(min(err_rate)) + 1\n",
    "index"
   ]
  },
  {
   "cell_type": "code",
   "execution_count": 47,
   "metadata": {},
   "outputs": [],
   "source": [
    "nbrs = KNeighborsClassifier(n_neighbors=index)\n",
    "nbrs.fit(X_train, y_train)\n",
    "predictions = nbrs.predict(X_test)"
   ]
  },
  {
   "cell_type": "code",
   "execution_count": 48,
   "metadata": {},
   "outputs": [
    {
     "name": "stdout",
     "output_type": "stream",
     "text": [
      "[[1435  236]\n",
      " [ 727  471]]\n",
      "              precision    recall  f1-score   support\n",
      "\n",
      "         0.0       0.66      0.86      0.75      1671\n",
      "         1.0       0.67      0.39      0.49      1198\n",
      "\n",
      "    accuracy                           0.66      2869\n",
      "   macro avg       0.66      0.63      0.62      2869\n",
      "weighted avg       0.66      0.66      0.64      2869\n",
      "\n",
      "0.6643429766469153\n"
     ]
    }
   ],
   "source": [
    "print(confusion_matrix(y_test, predictions))\n",
    "print(classification_report(y_test,predictions))\n",
    "print(metrics.accuracy_score(y_test, predictions))"
   ]
  },
  {
   "cell_type": "markdown",
   "metadata": {},
   "source": [
    "## although we found the best knn for our accuracy, we want our recall high as possible with the accuracy so we will try other knn. like knn = 5 "
   ]
  },
  {
   "cell_type": "code",
   "execution_count": 49,
   "metadata": {},
   "outputs": [],
   "source": [
    "#now if we run the algo with knn = 5 lets see what happens\n",
    "nbrs = KNeighborsClassifier(n_neighbors=5)\n",
    "nbrs.fit(X_train, y_train)\n",
    "predictions = nbrs.predict(X_test)"
   ]
  },
  {
   "cell_type": "code",
   "execution_count": 50,
   "metadata": {},
   "outputs": [
    {
     "name": "stdout",
     "output_type": "stream",
     "text": [
      "[[1234  437]\n",
      " [ 573  625]]\n",
      "              precision    recall  f1-score   support\n",
      "\n",
      "         0.0       0.68      0.74      0.71      1671\n",
      "         1.0       0.59      0.52      0.55      1198\n",
      "\n",
      "    accuracy                           0.65      2869\n",
      "   macro avg       0.64      0.63      0.63      2869\n",
      "weighted avg       0.64      0.65      0.64      2869\n",
      "\n",
      "0.6479609620076682\n"
     ]
    }
   ],
   "source": [
    "print(confusion_matrix(y_test, predictions))\n",
    "print(classification_report(y_test,predictions))\n",
    "print(metrics.accuracy_score(y_test, predictions))"
   ]
  },
  {
   "cell_type": "markdown",
   "metadata": {},
   "source": [
    "## we can see that knn = 5 is better for our model then knn=2 even thou the accuracy is worst "
   ]
  },
  {
   "cell_type": "markdown",
   "metadata": {},
   "source": [
    "# decision tree"
   ]
  },
  {
   "cell_type": "code",
   "execution_count": 51,
   "metadata": {},
   "outputs": [],
   "source": [
    "from sklearn import tree"
   ]
  },
  {
   "cell_type": "code",
   "execution_count": 52,
   "metadata": {},
   "outputs": [],
   "source": [
    "clf = tree.DecisionTreeClassifier()\n",
    "clf = clf.fit(X_train, y_train)\n",
    "predictions = nbrs.predict(X_test)"
   ]
  },
  {
   "cell_type": "code",
   "execution_count": 53,
   "metadata": {},
   "outputs": [
    {
     "name": "stdout",
     "output_type": "stream",
     "text": [
      "[[1234  437]\n",
      " [ 573  625]]\n",
      "              precision    recall  f1-score   support\n",
      "\n",
      "         0.0       0.68      0.74      0.71      1671\n",
      "         1.0       0.59      0.52      0.55      1198\n",
      "\n",
      "    accuracy                           0.65      2869\n",
      "   macro avg       0.64      0.63      0.63      2869\n",
      "weighted avg       0.64      0.65      0.64      2869\n",
      "\n",
      "0.6479609620076682\n"
     ]
    }
   ],
   "source": [
    "print(confusion_matrix(y_test, predictions))\n",
    "print(classification_report(y_test,predictions))\n",
    "print(metrics.accuracy_score(y_test, predictions))"
   ]
  },
  {
   "cell_type": "markdown",
   "metadata": {},
   "source": [
    "# logistic regression"
   ]
  },
  {
   "cell_type": "code",
   "execution_count": 54,
   "metadata": {},
   "outputs": [],
   "source": [
    "from sklearn.linear_model import LogisticRegression"
   ]
  },
  {
   "cell_type": "code",
   "execution_count": 55,
   "metadata": {},
   "outputs": [
    {
     "name": "stderr",
     "output_type": "stream",
     "text": [
      "C:\\Users\\benho\\Anaconda3\\lib\\site-packages\\sklearn\\linear_model\\logistic.py:432: FutureWarning: Default solver will be changed to 'lbfgs' in 0.22. Specify a solver to silence this warning.\n",
      "  FutureWarning)\n"
     ]
    }
   ],
   "source": [
    "clf = LogisticRegression()\n",
    "clf = clf.fit(X_train, y_train)\n",
    "predictions = clf.predict(X_test)"
   ]
  },
  {
   "cell_type": "code",
   "execution_count": 56,
   "metadata": {},
   "outputs": [
    {
     "name": "stderr",
     "output_type": "stream",
     "text": [
      "C:\\Users\\benho\\Anaconda3\\lib\\site-packages\\sklearn\\linear_model\\logistic.py:947: ConvergenceWarning: lbfgs failed to converge. Increase the number of iterations.\n",
      "  \"of iterations.\", ConvergenceWarning)\n"
     ]
    }
   ],
   "source": [
    "clf = LogisticRegression(solver='lbfgs')\n",
    "clf = clf.fit(X_train, y_train)\n",
    "predictions = clf.predict(X_test)"
   ]
  },
  {
   "cell_type": "code",
   "execution_count": 57,
   "metadata": {},
   "outputs": [],
   "source": [
    "clf = LogisticRegression(solver='lbfgs', max_iter=200)\n",
    "clf = clf.fit(X_train, y_train)\n",
    "predictions = clf.predict(X_test)"
   ]
  },
  {
   "cell_type": "code",
   "execution_count": 58,
   "metadata": {},
   "outputs": [
    {
     "name": "stdout",
     "output_type": "stream",
     "text": [
      "[[1340  331]\n",
      " [ 580  618]]\n",
      "              precision    recall  f1-score   support\n",
      "\n",
      "         0.0       0.70      0.80      0.75      1671\n",
      "         1.0       0.65      0.52      0.58      1198\n",
      "\n",
      "    accuracy                           0.68      2869\n",
      "   macro avg       0.67      0.66      0.66      2869\n",
      "weighted avg       0.68      0.68      0.68      2869\n",
      "\n",
      "0.682467758800976\n"
     ]
    }
   ],
   "source": [
    "print(confusion_matrix(y_test, predictions))\n",
    "print(classification_report(y_test,predictions))\n",
    "print(metrics.accuracy_score(y_test, predictions))"
   ]
  },
  {
   "cell_type": "code",
   "execution_count": null,
   "metadata": {},
   "outputs": [],
   "source": []
  }
 ],
 "metadata": {
  "kernelspec": {
   "display_name": "Python 3",
   "language": "python",
   "name": "python3"
  },
  "language_info": {
   "codemirror_mode": {
    "name": "ipython",
    "version": 3
   },
   "file_extension": ".py",
   "mimetype": "text/x-python",
   "name": "python",
   "nbconvert_exporter": "python",
   "pygments_lexer": "ipython3",
   "version": "3.7.4"
  }
 },
 "nbformat": 4,
 "nbformat_minor": 2
}
